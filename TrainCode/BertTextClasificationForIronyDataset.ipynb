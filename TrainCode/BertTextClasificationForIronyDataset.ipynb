{
  "cells": [
    {
      "cell_type": "markdown",
      "metadata": {
        "id": "OKxtK7h-2bzM"
      },
      "source": [
        "https://www.tensorflow.org/text/tutorials/classify_text_with_bert"
      ]
    },
    {
      "cell_type": "code",
      "execution_count": null,
      "metadata": {
        "id": "lZ7c29siEcMS",
        "colab": {
          "base_uri": "https://localhost:8080/"
        },
        "outputId": "b0548855-2077-4f97-b3e6-c4e35791e7c2"
      },
      "outputs": [
        {
          "output_type": "stream",
          "name": "stdout",
          "text": [
            "\u001b[2K     \u001b[90m━━━━━━━━━━━━━━━━━━━━━━━━━━━━━━━━━━━━━━━━\u001b[0m \u001b[32m1.8/1.8 MB\u001b[0m \u001b[31m54.3 MB/s\u001b[0m eta \u001b[36m0:00:00\u001b[0m\n",
            "\u001b[2K     \u001b[90m━━━━━━━━━━━━━━━━━━━━━━━━━━━━━━━━━━━━━━\u001b[0m \u001b[32m118.9/118.9 kB\u001b[0m \u001b[31m14.5 MB/s\u001b[0m eta \u001b[36m0:00:00\u001b[0m\n",
            "\u001b[2K     \u001b[90m━━━━━━━━━━━━━━━━━━━━━━━━━━━━━━━━━━━━━━━━\u001b[0m \u001b[32m1.3/1.3 MB\u001b[0m \u001b[31m54.2 MB/s\u001b[0m eta \u001b[36m0:00:00\u001b[0m\n",
            "\u001b[2K     \u001b[90m━━━━━━━━━━━━━━━━━━━━━━━━━━━━━━━━━━━━━━━━\u001b[0m \u001b[32m43.6/43.6 kB\u001b[0m \u001b[31m3.2 MB/s\u001b[0m eta \u001b[36m0:00:00\u001b[0m\n",
            "\u001b[?25h  Preparing metadata (setup.py) ... \u001b[?25l\u001b[?25hdone\n",
            "\u001b[2K     \u001b[90m━━━━━━━━━━━━━━━━━━━━━━━━━━━━━━━━━━━━━━\u001b[0m \u001b[32m591.0/591.0 kB\u001b[0m \u001b[31m55.0 MB/s\u001b[0m eta \u001b[36m0:00:00\u001b[0m\n",
            "\u001b[2K     \u001b[90m━━━━━━━━━━━━━━━━━━━━━━━━━━━━━━━━━━━━━━\u001b[0m \u001b[32m241.2/241.2 kB\u001b[0m \u001b[31m30.2 MB/s\u001b[0m eta \u001b[36m0:00:00\u001b[0m\n",
            "\u001b[2K     \u001b[90m━━━━━━━━━━━━━━━━━━━━━━━━━━━━━━━━━━━━━━━━\u001b[0m \u001b[32m17.6/17.6 MB\u001b[0m \u001b[31m51.7 MB/s\u001b[0m eta \u001b[36m0:00:00\u001b[0m\n",
            "\u001b[2K     \u001b[90m━━━━━━━━━━━━━━━━━━━━━━━━━━━━━━━━━━━━━━━━\u001b[0m \u001b[32m5.4/5.4 MB\u001b[0m \u001b[31m54.3 MB/s\u001b[0m eta \u001b[36m0:00:00\u001b[0m\n",
            "\u001b[2K     \u001b[90m━━━━━━━━━━━━━━━━━━━━━━━━━━━━━━━━━━━━━━━━\u001b[0m \u001b[32m5.4/5.4 MB\u001b[0m \u001b[31m35.1 MB/s\u001b[0m eta \u001b[36m0:00:00\u001b[0m\n",
            "\u001b[2K     \u001b[90m━━━━━━━━━━━━━━━━━━━━━━━━━━━━━━━━━━━━━━━━\u001b[0m \u001b[32m53.3/53.3 kB\u001b[0m \u001b[31m5.1 MB/s\u001b[0m eta \u001b[36m0:00:00\u001b[0m\n",
            "\u001b[?25h  Building wheel for seqeval (setup.py) ... \u001b[?25l\u001b[?25hdone\n",
            "\u001b[31mERROR: pip's dependency resolver does not currently take into account all the packages that are installed. This behaviour is the source of the following dependency conflicts.\n",
            "numba 0.56.4 requires numpy<1.24,>=1.18, but you have numpy 1.25.0 which is incompatible.\u001b[0m\u001b[31m\n",
            "\u001b[0m"
          ]
        },
        {
          "output_type": "stream",
          "name": "stderr",
          "text": [
            "/usr/local/lib/python3.10/dist-packages/tensorflow_addons/utils/tfa_eol_msg.py:23: UserWarning: \n",
            "\n",
            "TensorFlow Addons (TFA) has ended development and introduction of new features.\n",
            "TFA has entered a minimal maintenance and release mode until a planned end of life in May 2024.\n",
            "Please modify downstream libraries to take dependencies from other repositories in our TensorFlow community (e.g. Keras, Keras-CV, and Keras-NLP). \n",
            "\n",
            "For more information see: https://github.com/tensorflow/addons/issues/2807 \n",
            "\n",
            "  warnings.warn(\n",
            "/usr/local/lib/python3.10/dist-packages/tensorflow_addons/utils/ensure_tf_install.py:53: UserWarning: Tensorflow Addons supports using Python ops for all Tensorflow versions above or equal to 2.10.0 and strictly below 2.13.0 (nightly versions are not supported). \n",
            " The versions of TensorFlow you are currently using is 2.8.4 and is not supported. \n",
            "Some things might work, some things might not.\n",
            "If you were to encounter a bug, do not file an issue.\n",
            "If you want to make sure you're using a tested and supported configuration, either change the TensorFlow version or the TensorFlow Addons's version. \n",
            "You can find the compatibility matrix in TensorFlow Addon's readme:\n",
            "https://github.com/tensorflow/addons\n",
            "  warnings.warn(\n"
          ]
        }
      ],
      "source": [
        "# References and installs\n",
        "!pip install -q -U \"tensorflow-text==2.8.*\"\n",
        "!pip install -q tf-models-official==2.7.0\n",
        "\n",
        "\n",
        "import os\n",
        "import shutil\n",
        "import tensorflow as tf\n",
        "import tensorflow_hub as hub\n",
        "import tensorflow_text as text\n",
        "import matplotlib.pyplot as plt\n",
        "import pandas as pd\n",
        "\n",
        "from official.nlp import optimization\n",
        "\n",
        "tf.get_logger().setLevel('ERROR')"
      ]
    },
    {
      "cell_type": "code",
      "execution_count": null,
      "metadata": {
        "colab": {
          "base_uri": "https://localhost:8080/"
        },
        "id": "qL8ramYvzn1-",
        "outputId": "aac02931-a046-4991-a6e7-f7c42307ebc2"
      },
      "outputs": [
        {
          "output_type": "stream",
          "name": "stdout",
          "text": [
            "Mounted at /content/drive\n",
            "/content/drive/MyDrive/TFG - Irony Detection - Èric Casanovas Pérez/Code/Tests Bert\n"
          ]
        }
      ],
      "source": [
        "import os\n",
        "\n",
        "from google.colab import drive\n",
        "drive.mount('/content/drive')\n",
        "%cd /content/drive/MyDrive/TFG - Irony Detection - Èric Casanovas Pérez/Code/Tests Bert\n",
        "df_test = pd.DataFrame()\n"
      ]
    },
    {
      "cell_type": "code",
      "execution_count": null,
      "metadata": {
        "id": "Zwymr7RlrCLF",
        "colab": {
          "base_uri": "https://localhost:8080/",
          "height": 244
        },
        "outputId": "8525f2e8-8b02-4bff-9724-466475fe047e"
      },
      "outputs": [
        {
          "output_type": "error",
          "ename": "NameError",
          "evalue": "ignored",
          "traceback": [
            "\u001b[0;31m---------------------------------------------------------------------------\u001b[0m",
            "\u001b[0;31mNameError\u001b[0m                                 Traceback (most recent call last)",
            "\u001b[0;32m<ipython-input-1-d1f7e056d6e5>\u001b[0m in \u001b[0;36m<cell line: 3>\u001b[0;34m()\u001b[0m\n\u001b[1;32m      1\u001b[0m \u001b[0;31m# 4\u001b[0m\u001b[0;34m\u001b[0m\u001b[0;34m\u001b[0m\u001b[0m\n\u001b[1;32m      2\u001b[0m \u001b[0;31m#Fa les particions necesaries per a train, test and validation\u001b[0m\u001b[0;34m\u001b[0m\u001b[0;34m\u001b[0m\u001b[0m\n\u001b[0;32m----> 3\u001b[0;31m \u001b[0mAUTOTUNE\u001b[0m \u001b[0;34m=\u001b[0m \u001b[0mtf\u001b[0m\u001b[0;34m.\u001b[0m\u001b[0mdata\u001b[0m\u001b[0;34m.\u001b[0m\u001b[0mAUTOTUNE\u001b[0m\u001b[0;34m\u001b[0m\u001b[0;34m\u001b[0m\u001b[0m\n\u001b[0m\u001b[1;32m      4\u001b[0m \u001b[0mbatch_size\u001b[0m \u001b[0;34m=\u001b[0m \u001b[0;36m32\u001b[0m\u001b[0;34m\u001b[0m\u001b[0;34m\u001b[0m\u001b[0m\n\u001b[1;32m      5\u001b[0m \u001b[0mseed\u001b[0m \u001b[0;34m=\u001b[0m \u001b[0;36m42\u001b[0m\u001b[0;34m\u001b[0m\u001b[0;34m\u001b[0m\u001b[0m\n",
            "\u001b[0;31mNameError\u001b[0m: name 'tf' is not defined"
          ]
        }
      ],
      "source": [
        "#Fa les particions necesaries per a train, test and validation\n",
        "AUTOTUNE = tf.data.AUTOTUNE\n",
        "batch_size = 32\n",
        "seed = 42\n",
        "\n",
        "raw_train_ds = tf.keras.utils.text_dataset_from_directory(\n",
        "    'datasetFINAL/train_ds',\n",
        "    batch_size=batch_size,\n",
        "    validation_split=0.2,\n",
        "    subset='training',\n",
        "    seed=seed)\n",
        "\n",
        "class_names = raw_train_ds.class_names\n",
        "train_ds = raw_train_ds.cache().prefetch(buffer_size=AUTOTUNE)\n",
        "\n",
        "val_ds = tf.keras.utils.text_dataset_from_directory(\n",
        "    'datasetFINAL/validation_ds',\n",
        "    batch_size=batch_size,\n",
        "    validation_split=0.2,\n",
        "    subset='validation',\n",
        "    seed=seed)\n",
        "\n",
        "val_ds = val_ds.cache().prefetch(buffer_size=AUTOTUNE)\n",
        "\n",
        "test_ds = tf.keras.utils.text_dataset_from_directory(\n",
        "    'datasetFINAL/test_ds',\n",
        "    batch_size=batch_size)\n",
        "\n",
        "test_ds = test_ds.cache().prefetch(buffer_size=AUTOTUNE)"
      ]
    },
    {
      "cell_type": "code",
      "execution_count": null,
      "metadata": {
        "id": "aUbt_rFHxrEz",
        "colab": {
          "base_uri": "https://localhost:8080/"
        },
        "outputId": "e6b5d9c9-a92b-428f-f2a2-2f5c8391cc0e"
      },
      "outputs": [
        {
          "output_type": "stream",
          "name": "stdout",
          "text": [
            "BERT model selected           : https://tfhub.dev/tensorflow/bert_multi_cased_L-12_H-768_A-12/3\n",
            "Preprocess model auto-selected: https://tfhub.dev/tensorflow/bert_multi_cased_preprocess/3\n"
          ]
        }
      ],
      "source": [
        "# Per carregar el BERT QUE NECESSITEM\n",
        "bert_model_name = 'bert_multi_cased_L-12_H-768_A-12'\n",
        "\n",
        "map_name_to_handle = {\n",
        "    'bert_en_uncased_L-12_H-768_A-12':\n",
        "        'https://tfhub.dev/tensorflow/bert_en_uncased_L-12_H-768_A-12/3',\n",
        "    'bert_en_cased_L-12_H-768_A-12':\n",
        "        'https://tfhub.dev/tensorflow/bert_en_cased_L-12_H-768_A-12/3',\n",
        "    'bert_multi_cased_L-12_H-768_A-12':\n",
        "        'https://tfhub.dev/tensorflow/bert_multi_cased_L-12_H-768_A-12/3',\n",
        "    'small_bert/bert_en_uncased_L-2_H-128_A-2':\n",
        "        'https://tfhub.dev/tensorflow/small_bert/bert_en_uncased_L-2_H-128_A-2/1',\n",
        "    'small_bert/bert_en_uncased_L-2_H-256_A-4':\n",
        "        'https://tfhub.dev/tensorflow/small_bert/bert_en_uncased_L-2_H-256_A-4/1',\n",
        "    'small_bert/bert_en_uncased_L-2_H-512_A-8':\n",
        "        'https://tfhub.dev/tensorflow/small_bert/bert_en_uncased_L-2_H-512_A-8/1',\n",
        "    'small_bert/bert_en_uncased_L-2_H-768_A-12':\n",
        "        'https://tfhub.dev/tensorflow/small_bert/bert_en_uncased_L-2_H-768_A-12/1',\n",
        "    'small_bert/bert_en_uncased_L-4_H-128_A-2':\n",
        "        'https://tfhub.dev/tensorflow/small_bert/bert_en_uncased_L-4_H-128_A-2/1',\n",
        "    'small_bert/bert_en_uncased_L-4_H-256_A-4':\n",
        "        'https://tfhub.dev/tensorflow/small_bert/bert_en_uncased_L-4_H-256_A-4/1',\n",
        "    'small_bert/bert_en_uncased_L-4_H-512_A-8':\n",
        "        'https://tfhub.dev/tensorflow/small_bert/bert_en_uncased_L-4_H-512_A-8/1',\n",
        "    'small_bert/bert_en_uncased_L-4_H-768_A-12':\n",
        "        'https://tfhub.dev/tensorflow/small_bert/bert_en_uncased_L-4_H-768_A-12/1',\n",
        "    'small_bert/bert_en_uncased_L-6_H-128_A-2':\n",
        "        'https://tfhub.dev/tensorflow/small_bert/bert_en_uncased_L-6_H-128_A-2/1',\n",
        "    'small_bert/bert_en_uncased_L-6_H-256_A-4':\n",
        "        'https://tfhub.dev/tensorflow/small_bert/bert_en_uncased_L-6_H-256_A-4/1',\n",
        "    'small_bert/bert_en_uncased_L-6_H-512_A-8':\n",
        "        'https://tfhub.dev/tensorflow/small_bert/bert_en_uncased_L-6_H-512_A-8/1',\n",
        "    'small_bert/bert_en_uncased_L-6_H-768_A-12':\n",
        "        'https://tfhub.dev/tensorflow/small_bert/bert_en_uncased_L-6_H-768_A-12/1',\n",
        "    'small_bert/bert_en_uncased_L-8_H-128_A-2':\n",
        "        'https://tfhub.dev/tensorflow/small_bert/bert_en_uncased_L-8_H-128_A-2/1',\n",
        "    'small_bert/bert_en_uncased_L-8_H-256_A-4':\n",
        "        'https://tfhub.dev/tensorflow/small_bert/bert_en_uncased_L-8_H-256_A-4/1',\n",
        "    'small_bert/bert_en_uncased_L-8_H-512_A-8':\n",
        "        'https://tfhub.dev/tensorflow/small_bert/bert_en_uncased_L-8_H-512_A-8/1',\n",
        "    'small_bert/bert_en_uncased_L-8_H-768_A-12':\n",
        "        'https://tfhub.dev/tensorflow/small_bert/bert_en_uncased_L-8_H-768_A-12/1',\n",
        "    'small_bert/bert_en_uncased_L-10_H-128_A-2':\n",
        "        'https://tfhub.dev/tensorflow/small_bert/bert_en_uncased_L-10_H-128_A-2/1',\n",
        "    'small_bert/bert_en_uncased_L-10_H-256_A-4':\n",
        "        'https://tfhub.dev/tensorflow/small_bert/bert_en_uncased_L-10_H-256_A-4/1',\n",
        "    'small_bert/bert_en_uncased_L-10_H-512_A-8':\n",
        "        'https://tfhub.dev/tensorflow/small_bert/bert_en_uncased_L-10_H-512_A-8/1',\n",
        "    'small_bert/bert_en_uncased_L-10_H-768_A-12':\n",
        "        'https://tfhub.dev/tensorflow/small_bert/bert_en_uncased_L-10_H-768_A-12/1',\n",
        "    'small_bert/bert_en_uncased_L-12_H-128_A-2':\n",
        "        'https://tfhub.dev/tensorflow/small_bert/bert_en_uncased_L-12_H-128_A-2/1',\n",
        "    'small_bert/bert_en_uncased_L-12_H-256_A-4':\n",
        "        'https://tfhub.dev/tensorflow/small_bert/bert_en_uncased_L-12_H-256_A-4/1',\n",
        "    'small_bert/bert_en_uncased_L-12_H-512_A-8':\n",
        "        'https://tfhub.dev/tensorflow/small_bert/bert_en_uncased_L-12_H-512_A-8/1',\n",
        "    'small_bert/bert_en_uncased_L-12_H-768_A-12':\n",
        "        'https://tfhub.dev/tensorflow/small_bert/bert_en_uncased_L-12_H-768_A-12/1',\n",
        "    'albert_en_base':\n",
        "        'https://tfhub.dev/tensorflow/albert_en_base/2',\n",
        "    'electra_small':\n",
        "        'https://tfhub.dev/google/electra_small/2',\n",
        "    'electra_base':\n",
        "        'https://tfhub.dev/google/electra_base/2',\n",
        "    'experts_pubmed':\n",
        "        'https://tfhub.dev/google/experts/bert/pubmed/2',\n",
        "    'experts_wiki_books':\n",
        "        'https://tfhub.dev/google/experts/bert/wiki_books/2',\n",
        "    'talking-heads_base':\n",
        "        'https://tfhub.dev/tensorflow/talkheads_ggelu_bert_en_base/1',\n",
        "}\n",
        "\n",
        "map_model_to_preprocess = {\n",
        "    'bert_multi_cased_preprocess':\n",
        "        'https://tfhub.dev/tensorflow/bert_en_uncased_preprocess/3',\n",
        "    'bert_en_cased_L-12_H-768_A-12':\n",
        "        'https://tfhub.dev/tensorflow/bert_en_cased_preprocess/3',\n",
        "    'small_bert/bert_en_uncased_L-2_H-128_A-2':\n",
        "        'https://tfhub.dev/tensorflow/bert_en_uncased_preprocess/3',\n",
        "    'small_bert/bert_en_uncased_L-2_H-256_A-4':\n",
        "        'https://tfhub.dev/tensorflow/bert_en_uncased_preprocess/3',\n",
        "    'small_bert/bert_en_uncased_L-2_H-512_A-8':\n",
        "        'https://tfhub.dev/tensorflow/bert_en_uncased_preprocess/3',\n",
        "    'small_bert/bert_en_uncased_L-2_H-768_A-12':\n",
        "        'https://tfhub.dev/tensorflow/bert_en_uncased_preprocess/3',\n",
        "    'small_bert/bert_en_uncased_L-4_H-128_A-2':\n",
        "        'https://tfhub.dev/tensorflow/bert_en_uncased_preprocess/3',\n",
        "    'small_bert/bert_en_uncased_L-4_H-256_A-4':\n",
        "        'https://tfhub.dev/tensorflow/bert_en_uncased_preprocess/3',\n",
        "    'small_bert/bert_en_uncased_L-4_H-512_A-8':\n",
        "        'https://tfhub.dev/tensorflow/bert_en_uncased_preprocess/3',\n",
        "    'small_bert/bert_en_uncased_L-4_H-768_A-12':\n",
        "        'https://tfhub.dev/tensorflow/bert_en_uncased_preprocess/3',\n",
        "    'small_bert/bert_en_uncased_L-6_H-128_A-2':\n",
        "        'https://tfhub.dev/tensorflow/bert_en_uncased_preprocess/3',\n",
        "    'small_bert/bert_en_uncased_L-6_H-256_A-4':\n",
        "        'https://tfhub.dev/tensorflow/bert_en_uncased_preprocess/3',\n",
        "    'small_bert/bert_en_uncased_L-6_H-512_A-8':\n",
        "        'https://tfhub.dev/tensorflow/bert_en_uncased_preprocess/3',\n",
        "    'small_bert/bert_en_uncased_L-6_H-768_A-12':\n",
        "        'https://tfhub.dev/tensorflow/bert_en_uncased_preprocess/3',\n",
        "    'small_bert/bert_en_uncased_L-8_H-128_A-2':\n",
        "        'https://tfhub.dev/tensorflow/bert_en_uncased_preprocess/3',\n",
        "    'small_bert/bert_en_uncased_L-8_H-256_A-4':\n",
        "        'https://tfhub.dev/tensorflow/bert_en_uncased_preprocess/3',\n",
        "    'small_bert/bert_en_uncased_L-8_H-512_A-8':\n",
        "        'https://tfhub.dev/tensorflow/bert_en_uncased_preprocess/3',\n",
        "    'small_bert/bert_en_uncased_L-8_H-768_A-12':\n",
        "        'https://tfhub.dev/tensorflow/bert_en_uncased_preprocess/3',\n",
        "    'small_bert/bert_en_uncased_L-10_H-128_A-2':\n",
        "        'https://tfhub.dev/tensorflow/bert_en_uncased_preprocess/3',\n",
        "    'small_bert/bert_en_uncased_L-10_H-256_A-4':\n",
        "        'https://tfhub.dev/tensorflow/bert_en_uncased_preprocess/3',\n",
        "    'small_bert/bert_en_uncased_L-10_H-512_A-8':\n",
        "        'https://tfhub.dev/tensorflow/bert_en_uncased_preprocess/3',\n",
        "    'small_bert/bert_en_uncased_L-10_H-768_A-12':\n",
        "        'https://tfhub.dev/tensorflow/bert_en_uncased_preprocess/3',\n",
        "    'small_bert/bert_en_uncased_L-12_H-128_A-2':\n",
        "        'https://tfhub.dev/tensorflow/bert_en_uncased_preprocess/3',\n",
        "    'small_bert/bert_en_uncased_L-12_H-256_A-4':\n",
        "        'https://tfhub.dev/tensorflow/bert_en_uncased_preprocess/3',\n",
        "    'small_bert/bert_en_uncased_L-12_H-512_A-8':\n",
        "        'https://tfhub.dev/tensorflow/bert_en_uncased_preprocess/3',\n",
        "    'small_bert/bert_en_uncased_L-12_H-768_A-12':\n",
        "        'https://tfhub.dev/tensorflow/bert_en_uncased_preprocess/3',\n",
        "    'bert_multi_cased_L-12_H-768_A-12':\n",
        "        'https://tfhub.dev/tensorflow/bert_multi_cased_preprocess/3',\n",
        "    'albert_en_base':\n",
        "        'https://tfhub.dev/tensorflow/albert_en_preprocess/3',\n",
        "    'electra_small':\n",
        "        'https://tfhub.dev/tensorflow/bert_en_uncased_preprocess/3',\n",
        "    'electra_base':\n",
        "        'https://tfhub.dev/tensorflow/bert_en_uncased_preprocess/3',\n",
        "    'experts_pubmed':\n",
        "        'https://tfhub.dev/tensorflow/bert_en_uncased_preprocess/3',\n",
        "    'experts_wiki_books':\n",
        "        'https://tfhub.dev/tensorflow/bert_en_uncased_preprocess/3',\n",
        "    'talking-heads_base':\n",
        "        'https://tfhub.dev/tensorflow/bert_en_uncased_preprocess/3',\n",
        "}\n",
        "\n",
        "tfhub_handle_encoder = map_name_to_handle[bert_model_name]\n",
        "tfhub_handle_preprocess = map_model_to_preprocess[bert_model_name]\n",
        "\n",
        "print(f'BERT model selected           : {tfhub_handle_encoder}')\n",
        "print(f'Preprocess model auto-selected: {tfhub_handle_preprocess}')"
      ]
    },
    {
      "cell_type": "code",
      "execution_count": null,
      "metadata": {
        "id": "kapA7U7Yydax"
      },
      "outputs": [],
      "source": [
        "bert_preprocess_model = hub.KerasLayer(tfhub_handle_preprocess)\n",
        "bert_model = hub.KerasLayer(tfhub_handle_encoder)"
      ]
    },
    {
      "cell_type": "code",
      "source": [
        "def build_classifier_model():\n",
        "  text_input = tf.keras.layers.Input(shape=(), dtype=tf.string, name='text')\n",
        "  preprocessing_layer = hub.KerasLayer(tfhub_handle_preprocess, name='preprocessing')\n",
        "  encoder_inputs = preprocessing_layer(text_input)\n",
        "\n",
        "  # Carga el modelo BERT completo (incluyendo las últimas dos capas)\n",
        "  encoder = hub.KerasLayer(tfhub_handle_encoder, trainable=True, name='BERT_encoder')\n",
        "\n",
        "  outputs = encoder(dict(input_word_ids=encoder_inputs['input_word_ids'],\n",
        "                         input_mask=encoder_inputs['input_mask'],\n",
        "                         input_type_ids=encoder_inputs['input_type_ids']), training=True)\n",
        "\n",
        "  net = outputs['pooled_output']\n",
        "  net = tf.keras.layers.Dropout(0.1)(net)\n",
        "  net = tf.keras.layers.Dense(1, activation=None, name='classifier')(net)\n",
        "  return tf.keras.Model(text_input, net)"
      ],
      "metadata": {
        "id": "XrfHR1YORZC3"
      },
      "execution_count": null,
      "outputs": []
    },
    {
      "cell_type": "code",
      "execution_count": null,
      "metadata": {
        "id": "N-SQG0GT0e9G",
        "colab": {
          "base_uri": "https://localhost:8080/",
          "height": 506
        },
        "outputId": "ad483032-d393-4b89-9c60-b0b93c682f9a"
      },
      "outputs": [
        {
          "output_type": "error",
          "ename": "ValueError",
          "evalue": "ignored",
          "traceback": [
            "\u001b[0;31m---------------------------------------------------------------------------\u001b[0m",
            "\u001b[0;31mValueError\u001b[0m                                Traceback (most recent call last)",
            "\u001b[0;32m<ipython-input-48-e56cab8e2c0f>\u001b[0m in \u001b[0;36m<cell line: 2>\u001b[0;34m()\u001b[0m\n\u001b[1;32m      1\u001b[0m \u001b[0;31m# 12\u001b[0m\u001b[0;34m\u001b[0m\u001b[0;34m\u001b[0m\u001b[0m\n\u001b[0;32m----> 2\u001b[0;31m \u001b[0mclassifier_model\u001b[0m \u001b[0;34m=\u001b[0m \u001b[0mbuild_classifier_model\u001b[0m\u001b[0;34m(\u001b[0m\u001b[0;34m)\u001b[0m\u001b[0;34m\u001b[0m\u001b[0;34m\u001b[0m\u001b[0m\n\u001b[0m\u001b[1;32m      3\u001b[0m \u001b[0;31m# bert_raw_result = classifier_model(tf.constant(text_test))\u001b[0m\u001b[0;34m\u001b[0m\u001b[0;34m\u001b[0m\u001b[0m\n\u001b[1;32m      4\u001b[0m \u001b[0;31m# print(tf.sigmoid(bert_raw_result))\u001b[0m\u001b[0;34m\u001b[0m\u001b[0;34m\u001b[0m\u001b[0m\n",
            "\u001b[0;32m<ipython-input-47-a4d575388aa3>\u001b[0m in \u001b[0;36mbuild_classifier_model\u001b[0;34m()\u001b[0m\n\u001b[1;32m     15\u001b[0m     \u001b[0mlayer\u001b[0m\u001b[0;34m.\u001b[0m\u001b[0mtrainable\u001b[0m \u001b[0;34m=\u001b[0m \u001b[0;32mFalse\u001b[0m\u001b[0;34m\u001b[0m\u001b[0;34m\u001b[0m\u001b[0m\n\u001b[1;32m     16\u001b[0m \u001b[0;34m\u001b[0m\u001b[0m\n\u001b[0;32m---> 17\u001b[0;31m   \u001b[0moutputs\u001b[0m \u001b[0;34m=\u001b[0m \u001b[0mencoder\u001b[0m\u001b[0;34m(\u001b[0m\u001b[0mencoder_inputs\u001b[0m\u001b[0;34m)\u001b[0m\u001b[0;34m\u001b[0m\u001b[0;34m\u001b[0m\u001b[0m\n\u001b[0m\u001b[1;32m     18\u001b[0m   \u001b[0;32mreturn\u001b[0m \u001b[0mtf\u001b[0m\u001b[0;34m.\u001b[0m\u001b[0mkeras\u001b[0m\u001b[0;34m.\u001b[0m\u001b[0mModel\u001b[0m\u001b[0;34m(\u001b[0m\u001b[0mtext_input\u001b[0m\u001b[0;34m,\u001b[0m \u001b[0moutputs\u001b[0m\u001b[0;34m)\u001b[0m\u001b[0;34m\u001b[0m\u001b[0;34m\u001b[0m\u001b[0m\n",
            "\u001b[0;32m/usr/local/lib/python3.10/dist-packages/keras/utils/traceback_utils.py\u001b[0m in \u001b[0;36merror_handler\u001b[0;34m(*args, **kwargs)\u001b[0m\n\u001b[1;32m     65\u001b[0m     \u001b[0;32mexcept\u001b[0m \u001b[0mException\u001b[0m \u001b[0;32mas\u001b[0m \u001b[0me\u001b[0m\u001b[0;34m:\u001b[0m  \u001b[0;31m# pylint: disable=broad-except\u001b[0m\u001b[0;34m\u001b[0m\u001b[0;34m\u001b[0m\u001b[0m\n\u001b[1;32m     66\u001b[0m       \u001b[0mfiltered_tb\u001b[0m \u001b[0;34m=\u001b[0m \u001b[0m_process_traceback_frames\u001b[0m\u001b[0;34m(\u001b[0m\u001b[0me\u001b[0m\u001b[0;34m.\u001b[0m\u001b[0m__traceback__\u001b[0m\u001b[0;34m)\u001b[0m\u001b[0;34m\u001b[0m\u001b[0;34m\u001b[0m\u001b[0m\n\u001b[0;32m---> 67\u001b[0;31m       \u001b[0;32mraise\u001b[0m \u001b[0me\u001b[0m\u001b[0;34m.\u001b[0m\u001b[0mwith_traceback\u001b[0m\u001b[0;34m(\u001b[0m\u001b[0mfiltered_tb\u001b[0m\u001b[0;34m)\u001b[0m \u001b[0;32mfrom\u001b[0m \u001b[0;32mNone\u001b[0m\u001b[0;34m\u001b[0m\u001b[0;34m\u001b[0m\u001b[0m\n\u001b[0m\u001b[1;32m     68\u001b[0m     \u001b[0;32mfinally\u001b[0m\u001b[0;34m:\u001b[0m\u001b[0;34m\u001b[0m\u001b[0;34m\u001b[0m\u001b[0m\n\u001b[1;32m     69\u001b[0m       \u001b[0;32mdel\u001b[0m \u001b[0mfiltered_tb\u001b[0m\u001b[0;34m\u001b[0m\u001b[0;34m\u001b[0m\u001b[0m\n",
            "\u001b[0;32m/usr/local/lib/python3.10/dist-packages/keras/engine/sequential.py\u001b[0m in \u001b[0;36mcall\u001b[0;34m(self, inputs, training, mask)\u001b[0m\n\u001b[1;32m    389\u001b[0m \u001b[0;34m\u001b[0m\u001b[0m\n\u001b[1;32m    390\u001b[0m       \u001b[0;32mif\u001b[0m \u001b[0mlen\u001b[0m\u001b[0;34m(\u001b[0m\u001b[0mtf\u001b[0m\u001b[0;34m.\u001b[0m\u001b[0mnest\u001b[0m\u001b[0;34m.\u001b[0m\u001b[0mflatten\u001b[0m\u001b[0;34m(\u001b[0m\u001b[0moutputs\u001b[0m\u001b[0;34m)\u001b[0m\u001b[0;34m)\u001b[0m \u001b[0;34m!=\u001b[0m \u001b[0;36m1\u001b[0m\u001b[0;34m:\u001b[0m\u001b[0;34m\u001b[0m\u001b[0;34m\u001b[0m\u001b[0m\n\u001b[0;32m--> 391\u001b[0;31m         \u001b[0;32mraise\u001b[0m \u001b[0mValueError\u001b[0m\u001b[0;34m(\u001b[0m\u001b[0mSINGLE_LAYER_OUTPUT_ERROR_MSG\u001b[0m\u001b[0;34m)\u001b[0m\u001b[0;34m\u001b[0m\u001b[0;34m\u001b[0m\u001b[0m\n\u001b[0m\u001b[1;32m    392\u001b[0m       \u001b[0;31m# `outputs` will be the inputs to the next layer.\u001b[0m\u001b[0;34m\u001b[0m\u001b[0;34m\u001b[0m\u001b[0m\n\u001b[1;32m    393\u001b[0m       \u001b[0minputs\u001b[0m \u001b[0;34m=\u001b[0m \u001b[0moutputs\u001b[0m\u001b[0;34m\u001b[0m\u001b[0;34m\u001b[0m\u001b[0m\n",
            "\u001b[0;31mValueError\u001b[0m: Exception encountered when calling layer \"sequential\" (type Sequential).\n\nAll layers in a Sequential model should have a single output tensor. For multi-output layers, use the functional API.\n\nCall arguments received:\n  • inputs={'input_mask': 'tf.Tensor(shape=(None, 128), dtype=int32)', 'input_word_ids': 'tf.Tensor(shape=(None, 128), dtype=int32)', 'input_type_ids': 'tf.Tensor(shape=(None, 128), dtype=int32)'}\n  • training=False\n  • mask=None"
          ]
        }
      ],
      "source": [
        "\n",
        "classifier_model = build_classifier_model()\n",
        "# bert_raw_result = classifier_model(tf.constant(text_test))\n",
        "# print(tf.sigmoid(bert_raw_result))"
      ]
    },
    {
      "cell_type": "code",
      "execution_count": null,
      "metadata": {
        "id": "pTTuXhUC01iL"
      },
      "outputs": [],
      "source": [
        "\n",
        "loss = tf.keras.losses.BinaryCrossentropy(from_logits=True)\n",
        "metrics = tf.metrics.BinaryAccuracy()\n",
        "\n",
        "from keras.callbacks import EarlyStopping\n",
        "\n",
        "early_stop = EarlyStopping(monitor='val_loss', patience=20)"
      ]
    },
    {
      "cell_type": "code",
      "execution_count": null,
      "metadata": {
        "id": "IWPyjzRj-jTc"
      },
      "outputs": [],
      "source": [
        "\n",
        "epochs = 200\n",
        "steps_per_epoch = tf.data.experimental.cardinality(train_ds).numpy()\n",
        "num_train_steps = steps_per_epoch * epochs\n",
        "num_warmup_steps = int(0.1*num_train_steps)\n",
        "\n",
        "init_lr = 3e-3\n",
        "optimizer = optimization.create_optimizer(init_lr=init_lr,\n",
        "                                          num_train_steps=num_train_steps,\n",
        "                                          num_warmup_steps=num_warmup_steps,\n",
        "                                          optimizer_type='adamw')"
      ]
    },
    {
      "cell_type": "code",
      "execution_count": null,
      "metadata": {
        "id": "ozfcH8xu-mGL"
      },
      "outputs": [],
      "source": [
        "\n",
        "classifier_model.compile(optimizer=optimizer,\n",
        "                         loss=loss,\n",
        "                         metrics=metrics)"
      ]
    },
    {
      "cell_type": "code",
      "execution_count": null,
      "metadata": {
        "id": "muD3xtzS-oPk",
        "colab": {
          "base_uri": "https://localhost:8080/"
        },
        "outputId": "c608b711-8e69-4411-d05b-c1958bc8b6a1"
      },
      "outputs": [
        {
          "output_type": "stream",
          "name": "stdout",
          "text": [
            "Training model with https://tfhub.dev/tensorflow/bert_multi_cased_L-12_H-768_A-12/3\n",
            "Epoch 1/200\n",
            "48/48 [==============================] - 227s 5s/step - loss: 0.6703 - binary_accuracy: 0.4382 - val_loss: 0.6015 - val_binary_accuracy: 0.7368\n",
            "Epoch 2/200\n",
            "48/48 [==============================] - 19s 400ms/step - loss: 0.6423 - binary_accuracy: 0.5560 - val_loss: 0.6570 - val_binary_accuracy: 0.5263\n",
            "Epoch 3/200\n",
            "48/48 [==============================] - 19s 406ms/step - loss: 0.6367 - binary_accuracy: 0.5736 - val_loss: 0.6254 - val_binary_accuracy: 0.4737\n",
            "Epoch 4/200\n",
            "48/48 [==============================] - 20s 413ms/step - loss: 0.6293 - binary_accuracy: 0.6126 - val_loss: 0.5913 - val_binary_accuracy: 0.6842\n",
            "Epoch 5/200\n",
            "48/48 [==============================] - 20s 417ms/step - loss: 0.6228 - binary_accuracy: 0.6243 - val_loss: 0.6197 - val_binary_accuracy: 0.5789\n",
            "Epoch 6/200\n",
            "48/48 [==============================] - 20s 413ms/step - loss: 0.6214 - binary_accuracy: 0.6185 - val_loss: 0.5964 - val_binary_accuracy: 0.5263\n",
            "Epoch 7/200\n",
            "48/48 [==============================] - 20s 413ms/step - loss: 0.6215 - binary_accuracy: 0.6283 - val_loss: 0.6104 - val_binary_accuracy: 0.6316\n",
            "Epoch 8/200\n",
            "48/48 [==============================] - 20s 419ms/step - loss: 0.6140 - binary_accuracy: 0.6426 - val_loss: 0.5785 - val_binary_accuracy: 0.6316\n",
            "Epoch 9/200\n",
            "48/48 [==============================] - 20s 417ms/step - loss: 0.6160 - binary_accuracy: 0.6237 - val_loss: 0.5722 - val_binary_accuracy: 0.5789\n",
            "Epoch 10/200\n",
            "48/48 [==============================] - 20s 414ms/step - loss: 0.6123 - binary_accuracy: 0.6185 - val_loss: 0.6103 - val_binary_accuracy: 0.5789\n",
            "Epoch 11/200\n",
            "48/48 [==============================] - 20s 417ms/step - loss: 0.6041 - binary_accuracy: 0.6380 - val_loss: 0.5638 - val_binary_accuracy: 0.6316\n",
            "Epoch 12/200\n",
            "48/48 [==============================] - 20s 415ms/step - loss: 0.6081 - binary_accuracy: 0.6387 - val_loss: 0.5984 - val_binary_accuracy: 0.5789\n",
            "Epoch 13/200\n",
            "48/48 [==============================] - 20s 416ms/step - loss: 0.5973 - binary_accuracy: 0.6426 - val_loss: 0.5457 - val_binary_accuracy: 0.6316\n",
            "Epoch 14/200\n",
            "48/48 [==============================] - 20s 418ms/step - loss: 0.5970 - binary_accuracy: 0.6517 - val_loss: 0.5444 - val_binary_accuracy: 0.6316\n",
            "Epoch 15/200\n",
            "48/48 [==============================] - 20s 418ms/step - loss: 0.5961 - binary_accuracy: 0.6445 - val_loss: 0.6410 - val_binary_accuracy: 0.5789\n",
            "Epoch 16/200\n",
            "48/48 [==============================] - 20s 417ms/step - loss: 0.5932 - binary_accuracy: 0.6471 - val_loss: 0.5184 - val_binary_accuracy: 0.7368\n",
            "Epoch 17/200\n",
            "48/48 [==============================] - 20s 417ms/step - loss: 0.6007 - binary_accuracy: 0.6413 - val_loss: 0.5590 - val_binary_accuracy: 0.6316\n",
            "Epoch 18/200\n",
            "48/48 [==============================] - 20s 415ms/step - loss: 0.5889 - binary_accuracy: 0.6536 - val_loss: 0.5175 - val_binary_accuracy: 0.6316\n",
            "Epoch 19/200\n",
            "48/48 [==============================] - 20s 416ms/step - loss: 0.5923 - binary_accuracy: 0.6582 - val_loss: 0.4810 - val_binary_accuracy: 0.7368\n",
            "Epoch 20/200\n",
            "48/48 [==============================] - 20s 418ms/step - loss: 0.5831 - binary_accuracy: 0.6647 - val_loss: 0.5589 - val_binary_accuracy: 0.5789\n",
            "Epoch 21/200\n",
            "48/48 [==============================] - 20s 417ms/step - loss: 0.5857 - binary_accuracy: 0.6706 - val_loss: 0.4809 - val_binary_accuracy: 0.7368\n",
            "Epoch 22/200\n",
            "48/48 [==============================] - 20s 417ms/step - loss: 0.5816 - binary_accuracy: 0.6628 - val_loss: 0.5182 - val_binary_accuracy: 0.6842\n",
            "Epoch 23/200\n",
            "48/48 [==============================] - 20s 416ms/step - loss: 0.5749 - binary_accuracy: 0.6647 - val_loss: 0.5616 - val_binary_accuracy: 0.6842\n",
            "Epoch 24/200\n",
            "48/48 [==============================] - 20s 415ms/step - loss: 0.5765 - binary_accuracy: 0.6660 - val_loss: 0.5266 - val_binary_accuracy: 0.7368\n",
            "Epoch 25/200\n",
            "48/48 [==============================] - 20s 417ms/step - loss: 0.5762 - binary_accuracy: 0.6751 - val_loss: 0.5311 - val_binary_accuracy: 0.6316\n",
            "Epoch 26/200\n",
            "48/48 [==============================] - 20s 415ms/step - loss: 0.5746 - binary_accuracy: 0.6725 - val_loss: 0.5264 - val_binary_accuracy: 0.7368\n",
            "Epoch 27/200\n",
            "48/48 [==============================] - 20s 413ms/step - loss: 0.5720 - binary_accuracy: 0.6829 - val_loss: 0.4932 - val_binary_accuracy: 0.6842\n",
            "Epoch 28/200\n",
            "48/48 [==============================] - 20s 415ms/step - loss: 0.5815 - binary_accuracy: 0.6699 - val_loss: 0.5020 - val_binary_accuracy: 0.6842\n",
            "Epoch 29/200\n",
            "48/48 [==============================] - 20s 416ms/step - loss: 0.5789 - binary_accuracy: 0.6758 - val_loss: 0.4974 - val_binary_accuracy: 0.7368\n",
            "Epoch 30/200\n",
            "48/48 [==============================] - 20s 417ms/step - loss: 0.5775 - binary_accuracy: 0.6621 - val_loss: 0.4658 - val_binary_accuracy: 0.6842\n",
            "Epoch 31/200\n",
            "48/48 [==============================] - 20s 416ms/step - loss: 0.5800 - binary_accuracy: 0.6647 - val_loss: 0.4929 - val_binary_accuracy: 0.7895\n",
            "Epoch 32/200\n",
            "48/48 [==============================] - 20s 416ms/step - loss: 0.5743 - binary_accuracy: 0.6745 - val_loss: 0.5102 - val_binary_accuracy: 0.6842\n",
            "Epoch 33/200\n",
            "48/48 [==============================] - 20s 416ms/step - loss: 0.5774 - binary_accuracy: 0.6654 - val_loss: 0.5362 - val_binary_accuracy: 0.6842\n",
            "Epoch 34/200\n",
            "48/48 [==============================] - 20s 416ms/step - loss: 0.5739 - binary_accuracy: 0.6628 - val_loss: 0.5171 - val_binary_accuracy: 0.7368\n",
            "Epoch 35/200\n",
            "48/48 [==============================] - 20s 418ms/step - loss: 0.5712 - binary_accuracy: 0.6693 - val_loss: 0.5701 - val_binary_accuracy: 0.6316\n",
            "Epoch 36/200\n",
            "48/48 [==============================] - 20s 416ms/step - loss: 0.5716 - binary_accuracy: 0.6758 - val_loss: 0.5083 - val_binary_accuracy: 0.6842\n",
            "Epoch 37/200\n",
            "48/48 [==============================] - 20s 414ms/step - loss: 0.5739 - binary_accuracy: 0.6706 - val_loss: 0.5407 - val_binary_accuracy: 0.7368\n",
            "Epoch 38/200\n",
            "48/48 [==============================] - 20s 416ms/step - loss: 0.5658 - binary_accuracy: 0.6823 - val_loss: 0.5119 - val_binary_accuracy: 0.6316\n",
            "Epoch 39/200\n",
            "48/48 [==============================] - 20s 418ms/step - loss: 0.5711 - binary_accuracy: 0.6719 - val_loss: 0.4989 - val_binary_accuracy: 0.7895\n",
            "Epoch 40/200\n",
            "48/48 [==============================] - 20s 416ms/step - loss: 0.5640 - binary_accuracy: 0.6895 - val_loss: 0.4620 - val_binary_accuracy: 0.7895\n",
            "Epoch 41/200\n",
            "48/48 [==============================] - 20s 416ms/step - loss: 0.5694 - binary_accuracy: 0.6725 - val_loss: 0.4355 - val_binary_accuracy: 0.8421\n",
            "Epoch 42/200\n",
            "48/48 [==============================] - 20s 415ms/step - loss: 0.5666 - binary_accuracy: 0.6810 - val_loss: 0.4628 - val_binary_accuracy: 0.7368\n",
            "Epoch 43/200\n",
            "48/48 [==============================] - 20s 414ms/step - loss: 0.5734 - binary_accuracy: 0.6777 - val_loss: 0.4646 - val_binary_accuracy: 0.7368\n",
            "Epoch 44/200\n",
            "48/48 [==============================] - 20s 414ms/step - loss: 0.5703 - binary_accuracy: 0.6673 - val_loss: 0.4949 - val_binary_accuracy: 0.6316\n",
            "Epoch 45/200\n",
            "48/48 [==============================] - 20s 417ms/step - loss: 0.5770 - binary_accuracy: 0.6725 - val_loss: 0.5400 - val_binary_accuracy: 0.7368\n",
            "Epoch 46/200\n",
            "48/48 [==============================] - 20s 415ms/step - loss: 0.5598 - binary_accuracy: 0.6888 - val_loss: 0.4881 - val_binary_accuracy: 0.7368\n",
            "Epoch 47/200\n",
            "48/48 [==============================] - 20s 416ms/step - loss: 0.5692 - binary_accuracy: 0.6855 - val_loss: 0.4942 - val_binary_accuracy: 0.7895\n",
            "Epoch 48/200\n",
            "48/48 [==============================] - 20s 417ms/step - loss: 0.5621 - binary_accuracy: 0.6855 - val_loss: 0.4864 - val_binary_accuracy: 0.7368\n",
            "Epoch 49/200\n",
            "48/48 [==============================] - 20s 415ms/step - loss: 0.5674 - binary_accuracy: 0.6784 - val_loss: 0.4688 - val_binary_accuracy: 0.6842\n",
            "Epoch 50/200\n",
            "48/48 [==============================] - 20s 417ms/step - loss: 0.5643 - binary_accuracy: 0.6868 - val_loss: 0.5003 - val_binary_accuracy: 0.7368\n",
            "Epoch 51/200\n",
            "48/48 [==============================] - 20s 419ms/step - loss: 0.5701 - binary_accuracy: 0.6777 - val_loss: 0.6216 - val_binary_accuracy: 0.5789\n",
            "Epoch 52/200\n",
            "48/48 [==============================] - 20s 417ms/step - loss: 0.5752 - binary_accuracy: 0.6784 - val_loss: 0.4721 - val_binary_accuracy: 0.7368\n",
            "Epoch 53/200\n",
            "48/48 [==============================] - 20s 417ms/step - loss: 0.5672 - binary_accuracy: 0.6784 - val_loss: 0.4971 - val_binary_accuracy: 0.8421\n",
            "Epoch 54/200\n",
            "48/48 [==============================] - 20s 416ms/step - loss: 0.5665 - binary_accuracy: 0.6758 - val_loss: 0.4864 - val_binary_accuracy: 0.7895\n",
            "Epoch 55/200\n",
            "48/48 [==============================] - 20s 416ms/step - loss: 0.5649 - binary_accuracy: 0.6745 - val_loss: 0.4682 - val_binary_accuracy: 0.8421\n",
            "Epoch 56/200\n",
            "48/48 [==============================] - 20s 415ms/step - loss: 0.5560 - binary_accuracy: 0.6771 - val_loss: 0.5030 - val_binary_accuracy: 0.8421\n",
            "Epoch 57/200\n",
            "48/48 [==============================] - 20s 417ms/step - loss: 0.5685 - binary_accuracy: 0.6628 - val_loss: 0.4422 - val_binary_accuracy: 0.8421\n",
            "Epoch 58/200\n",
            "48/48 [==============================] - 20s 416ms/step - loss: 0.5629 - binary_accuracy: 0.6875 - val_loss: 0.4707 - val_binary_accuracy: 0.7368\n",
            "Epoch 59/200\n",
            "48/48 [==============================] - 20s 414ms/step - loss: 0.5662 - binary_accuracy: 0.6797 - val_loss: 0.4415 - val_binary_accuracy: 0.7368\n",
            "Epoch 60/200\n",
            "48/48 [==============================] - 20s 413ms/step - loss: 0.5651 - binary_accuracy: 0.6719 - val_loss: 0.4076 - val_binary_accuracy: 0.8421\n",
            "Epoch 61/200\n",
            "48/48 [==============================] - 20s 414ms/step - loss: 0.5755 - binary_accuracy: 0.6654 - val_loss: 0.5030 - val_binary_accuracy: 0.7368\n",
            "Epoch 62/200\n",
            "48/48 [==============================] - 20s 416ms/step - loss: 0.5667 - binary_accuracy: 0.6725 - val_loss: 0.4930 - val_binary_accuracy: 0.7368\n",
            "Epoch 63/200\n",
            "48/48 [==============================] - 20s 412ms/step - loss: 0.5670 - binary_accuracy: 0.6693 - val_loss: 0.4800 - val_binary_accuracy: 0.7895\n",
            "Epoch 64/200\n",
            "48/48 [==============================] - 20s 416ms/step - loss: 0.5565 - binary_accuracy: 0.6934 - val_loss: 0.4666 - val_binary_accuracy: 0.8421\n",
            "Epoch 65/200\n",
            "48/48 [==============================] - 20s 417ms/step - loss: 0.5624 - binary_accuracy: 0.6849 - val_loss: 0.4263 - val_binary_accuracy: 0.7895\n",
            "Epoch 66/200\n",
            "48/48 [==============================] - 20s 418ms/step - loss: 0.5668 - binary_accuracy: 0.6738 - val_loss: 0.5343 - val_binary_accuracy: 0.6842\n",
            "Epoch 67/200\n",
            "48/48 [==============================] - 20s 416ms/step - loss: 0.5632 - binary_accuracy: 0.6777 - val_loss: 0.5162 - val_binary_accuracy: 0.7368\n",
            "Epoch 68/200\n",
            "48/48 [==============================] - 20s 413ms/step - loss: 0.5565 - binary_accuracy: 0.6862 - val_loss: 0.5213 - val_binary_accuracy: 0.7895\n",
            "Epoch 69/200\n",
            "48/48 [==============================] - 20s 416ms/step - loss: 0.5593 - binary_accuracy: 0.6855 - val_loss: 0.4596 - val_binary_accuracy: 0.8947\n",
            "Epoch 70/200\n",
            "48/48 [==============================] - 20s 417ms/step - loss: 0.5580 - binary_accuracy: 0.6934 - val_loss: 0.5414 - val_binary_accuracy: 0.6842\n",
            "Epoch 71/200\n",
            "48/48 [==============================] - 20s 416ms/step - loss: 0.5609 - binary_accuracy: 0.6751 - val_loss: 0.4477 - val_binary_accuracy: 0.7368\n",
            "Epoch 72/200\n",
            "48/48 [==============================] - 20s 417ms/step - loss: 0.5583 - binary_accuracy: 0.6875 - val_loss: 0.5193 - val_binary_accuracy: 0.7368\n",
            "Epoch 73/200\n",
            "48/48 [==============================] - 20s 415ms/step - loss: 0.5649 - binary_accuracy: 0.6823 - val_loss: 0.5094 - val_binary_accuracy: 0.7368\n",
            "Epoch 74/200\n",
            "48/48 [==============================] - 20s 419ms/step - loss: 0.5632 - binary_accuracy: 0.6882 - val_loss: 0.4922 - val_binary_accuracy: 0.7368\n",
            "Epoch 75/200\n",
            "48/48 [==============================] - 20s 417ms/step - loss: 0.5642 - binary_accuracy: 0.6823 - val_loss: 0.4427 - val_binary_accuracy: 0.8421\n",
            "Epoch 76/200\n",
            "48/48 [==============================] - 20s 417ms/step - loss: 0.5684 - binary_accuracy: 0.6777 - val_loss: 0.4760 - val_binary_accuracy: 0.7895\n",
            "Epoch 77/200\n",
            "48/48 [==============================] - 20s 417ms/step - loss: 0.5715 - binary_accuracy: 0.6758 - val_loss: 0.4849 - val_binary_accuracy: 0.5789\n",
            "Epoch 78/200\n",
            "48/48 [==============================] - 20s 418ms/step - loss: 0.5592 - binary_accuracy: 0.6816 - val_loss: 0.4675 - val_binary_accuracy: 0.9474\n",
            "Epoch 79/200\n",
            "48/48 [==============================] - 20s 417ms/step - loss: 0.5579 - binary_accuracy: 0.6921 - val_loss: 0.4700 - val_binary_accuracy: 0.7368\n",
            "Epoch 80/200\n",
            "48/48 [==============================] - 20s 418ms/step - loss: 0.5603 - binary_accuracy: 0.6934 - val_loss: 0.4690 - val_binary_accuracy: 0.8947\n"
          ]
        }
      ],
      "source": [
        "\n",
        "print(f'Training model with {tfhub_handle_encoder}')\n",
        "history = classifier_model.fit(x=train_ds,\n",
        "                               validation_data=val_ds,\n",
        "                               epochs=epochs,\n",
        "                               callbacks=[early_stop])"
      ]
    },
    {
      "cell_type": "code",
      "execution_count": null,
      "metadata": {
        "id": "6P69t2Sa-q4M",
        "colab": {
          "base_uri": "https://localhost:8080/"
        },
        "outputId": "f80fe47c-facc-40ee-e710-386455e621a1"
      },
      "outputs": [
        {
          "output_type": "stream",
          "name": "stdout",
          "text": [
            "12/12 [==============================] - 90s 2s/step - loss: 0.5756 - binary_accuracy: 0.6927\n",
            "Loss: 0.5756059288978577\n",
            "Accuracy: 0.6927083134651184\n"
          ]
        }
      ],
      "source": [
        "\n",
        "loss, accuracy = classifier_model.evaluate(test_ds)\n",
        "\n",
        "print(f'Loss: {loss}')\n",
        "print(f'Accuracy: {accuracy}')"
      ]
    },
    {
      "cell_type": "code",
      "execution_count": null,
      "metadata": {
        "id": "mA8vvm-N-tuc",
        "colab": {
          "base_uri": "https://localhost:8080/",
          "height": 601
        },
        "outputId": "91d70da0-95e5-456b-c909-595e6dc4996e"
      },
      "outputs": [
        {
          "output_type": "stream",
          "name": "stdout",
          "text": [
            "dict_keys(['loss', 'binary_accuracy', 'val_loss', 'val_binary_accuracy'])\n"
          ]
        },
        {
          "output_type": "execute_result",
          "data": {
            "text/plain": [
              "<matplotlib.legend.Legend at 0x7fc2e610f6d0>"
            ]
          },
          "metadata": {},
          "execution_count": 34
        },
        {
          "output_type": "display_data",
          "data": {
            "text/plain": [
              "<Figure size 1000x600 with 2 Axes>"
            ],
            "image/png": "[encoded data removed]"
          },
          "metadata": {}
        }
      ],
      "source": [
        "# 18\n",
        "history_dict = history.history\n",
        "print(history_dict.keys())\n",
        "\n",
        "acc = history_dict['binary_accuracy']\n",
        "val_acc = history_dict['val_binary_accuracy']\n",
        "loss = history_dict['loss']\n",
        "val_loss = history_dict['val_loss']\n",
        "\n",
        "epochs = range(1, len(acc) + 1)\n",
        "fig = plt.figure(figsize=(10, 6))\n",
        "fig.tight_layout()\n",
        "\n",
        "plt.subplot(2, 1, 1)\n",
        "# r is for \"solid red line\"\n",
        "plt.plot(epochs, loss, 'r', label='Training loss')\n",
        "# b is for \"solid blue line\"\n",
        "plt.plot(epochs, val_loss, 'b', label='Validation loss')\n",
        "plt.title('Training and validation loss')\n",
        "# plt.xlabel('Epochs')\n",
        "plt.ylabel('Loss')\n",
        "plt.legend()\n",
        "\n",
        "plt.subplot(2, 1, 2)\n",
        "plt.plot(epochs, acc, 'r', label='Training acc')\n",
        "plt.plot(epochs, val_acc, 'b', label='Validation acc')\n",
        "plt.title('Training and validation accuracy')\n",
        "plt.xlabel('Epochs')\n",
        "plt.ylabel('Accuracy')\n",
        "plt.legend(loc='lower right')"
      ]
    },
    {
      "cell_type": "code",
      "execution_count": null,
      "metadata": {
        "id": "BEv3qhqvxwtY",
        "colab": {
          "base_uri": "https://localhost:8080/"
        },
        "outputId": "9e6ec08b-4d69-465e-85ed-ee9e8a75f1e3"
      },
      "outputs": [
        {
          "output_type": "stream",
          "name": "stderr",
          "text": [
            "WARNING:absl:Found untraced functions such as restored_function_body, restored_function_body, restored_function_body, restored_function_body, restored_function_body while saving (showing 5 of 364). These functions will not be directly callable after loading.\n"
          ]
        }
      ],
      "source": [
        "dataset_name = 'imdb'\n",
        "saved_model_path = './BaseModelV2?'.format(dataset_name.replace('/', '_'))\n",
        "\n",
        "classifier_model.save(saved_model_path, include_optimizer=False)"
      ]
    },
    {
      "cell_type": "code",
      "execution_count": null,
      "metadata": {
        "id": "q7iFIGaEoUAz"
      },
      "outputs": [],
      "source": [
        "model_json = classifier_model.to_json()\n",
        "\n",
        "import json\n",
        "\n",
        "with open(\"./Nofrozelayersv3?/my_model.json\", \"w\") as json_file:\n",
        "    json_file.write(model_json)"
      ]
    },
    {
      "cell_type": "code",
      "execution_count": null,
      "metadata": {
        "id": "sOqW9lgYx1YZ",
        "colab": {
          "base_uri": "https://localhost:8080/"
        },
        "outputId": "5963a785-4998-4b3c-8ae6-b8580e7549c9"
      },
      "outputs": [
        {
          "output_type": "stream",
          "name": "stdout",
          "text": [
            "Drive already mounted at /content/drive; to attempt to forcibly remount, call drive.mount(\"/content/drive\", force_remount=True).\n",
            "/content/drive/MyDrive/TFG - Irony Detection - Èric Casanovas Pérez/Code/Tests Bert\n"
          ]
        }
      ],
      "source": [
        "from google.colab import drive\n",
        "drive.mount('/content/drive')\n",
        "%cd /content/drive/MyDrive/TFG - Irony Detection - Èric Casanovas Pérez/Code/Tests Bert\n",
        "\n",
        "def print_my_examples(inputs, results):\n",
        "  result_for_printing = \\\n",
        "    [f'input: {inputs[i]:<30} : score: {results[i][0]:.6f}'\n",
        "                         for i in range(len(inputs))]\n",
        "  # print(*result_for_printing, sep='\\n')\n",
        "  # print()\n",
        "  return result_for_printing\n",
        "\n",
        "dataset_name = 'imdb'\n",
        "saved_model_path = './DAModelV6(DATrad1)'.format(dataset_name.replace('/', '_'))\n",
        "\n",
        "reloaded_model = tf.saved_model.load(saved_model_path)"
      ]
    },
    {
      "cell_type": "code",
      "execution_count": null,
      "metadata": {
        "id": "nFO-6Azf2Yuy",
        "colab": {
          "base_uri": "https://localhost:8080/"
        },
        "outputId": "1ba4e4c8-fe0e-4cbf-a274-7322552dbd33"
      },
      "outputs": [
        {
          "output_type": "stream",
          "name": "stdout",
          "text": [
            "['Sneakers opta por no apabullar con ramificaciones sociales: no estaba Robert Redford entonces como para liarse la manta a la cabeza después de los fiascos de Havana o de Una proposición indecente, y aquí se pone en manos de un director capacitado, que le pone en bandeja de oro un espectáculo cinematográfico efectista, novedoso, en donde hay secundarios de auténtico lujo ( Dan Aykroyd, River Phoenix antes de caerse al suelo sobrevitaminado de adrenalina, Sidney Poitier, Ben Kingsley o James Earl Jones.', 'Tras las sangrientas escabechinas en Vietnam y Afganistán, Rambo se vuelve a quitar de enmedio y se dedica a cazar serpientes en Tailandia.', 'Bob Dylan lo dijo.', 'En un ejercicio de honestidad y coherencia, Stallone dirige con nervio y sencillez la última matanza de Rambo sin medias tintas: cuerpos que explotan, cabezas cercenadas, cráneos atravesados por flechas, violaciones, incineraciones, boquetes del tamaño de un puño.', 'Como la película es made in Hollywood, más que arañar conciencias, roza, levemente toca, eriza la piel con muchísimo tacto, no vaya a ser que el flamante fuego de artificio que nos han vendido nos afecte en demasía y descreamos del sistema al punto de que no le sigamos la corriente como hasta ahora hemos venido haciendo.', 'Por su parte, Francis Lawrence, el director que ya nos había traído la entretenida Constantine, demuestra por momentos que es capaz de filmar con buen pulso, pero es muy difícil hacer algo que valga la pena con un guión que no sabe lo que quiere, que tiene más momentos de relleno que de historia.', ').', 'Además, el carácter solitario y casi psicópata del personaje principal es subrayado por dos detalles: la ausencia de su mentor, el coronel Trautman; y la comparación con los toscos mercenarios, que a su lado parecen novatos.', 'Todos estos signos son evidencias del rumbo que el cine americano de los primeros noventa iba cogiendo: carencias narrativas compensadas con brío y oficio, con repartos de campanillas y expectativas (casi siempre) mesuradas.', 'Así corren los tiempos.', '¿Aún no han aprendido que el terror de calidad funciona de esta manera?Aunque, como al final no llegué a ninguna conclusión del género en el que estaba instalado la peli, quizás no era esto lo que se pretendía.', 'O era al revés o sucedían ambas cosas al tiempo y nosotros le poníamos pinchos de tortillo a los turistas en Fuengirola.', 'Un 7.', \"En la reciente rueda de prensa, Stallone declaró que con 'John Rambo' pretendía despedirse del personaje plasmando toda la brutalidad de la guerra.\", 'Los guionistas de aquella son los guionistas de ésta.', 'Y qué quieren que les diga, hasta puede pillar por sorpresa.', 'Stallone se dedicó a hacer comedias estúpidas y acción de segunda fila, y todos empezamos a tomarle por bobo (\"no siento las piernas\").', 'Y ahora lo digo yo porque haberla visto algunos años después da una información extra, una especie de plus en lo meramente objetivo, esto es, en la idea fundamentada de que a lo que asistimos es a un buen film, uno bueno, de verdad, sin dobleces, directo, dotado de los suficientes encantos como para olvidar su naturaleza frívola en el fondo, aunque la historieta expuesta tenga su miga y su mala leche.', 'Objetivo cumplido, desde luego.', 'No hay que olvidarlo (lo escribo, por supuesto, para no olvidarlo yo tampoco): Sylvester Stallone posiblemente sea uno de los actores más limitados de Hollywood, pero desde luego no es uno de sus habitantes más tontos.', 'Todo un espectáculo bélico al servicio de una figura que, en esta cuarta entrega, alcanza una dimensión casi legendaria.', 'La intrascendencia final, ese no saber a qué estamos jugando de verdad, pero qué bonito juego hemos tenido, nos remite (lejanamente) a Juegos de guerra, de John Badham, pero son films distintos hechos en épocas muy diferentes aun cuando son diez o quizá menos los años que las separan.', 'Hoy (nuevamente) los tiempos están cambiando.', 'Sneakers o Los fisgones transcurre enteramente en algún capítulo de novelas de espionaje de la época de cuando los rusos espiaban y los americanos se sentían vigilados.', 'Esconde, no obstante, un discurso relevante sobre las consecuencias de la alta tecnología en la sociedad altamente tecnificada y, puesto a bordar la broma, hacernos bucear (sin botella de aire, a dulce pelo ) en la responsabilidad de abrir alguna que otra conciencia cívica a propósito del desmán que el argumento propone: una suerte de decodificador que accede a cualquier red informática del mundo ( he aquí el Dios omnisciente, el Ojo que vigila, la antigua teoría del demiurgo constantemente en alerta por la barbarie de su creación ).', 'Sneakers no es material digno de un Clancy o un Forsyth, pero en cine constituye un digno ejemplo de entretenimiento con mensaje, aunque aquí todo se diluya amablemente gracias a la habilidosa capa de comercialidad apabullante que llena todo el metraje.', 'lejísimos de la trivialización de la guerra que eran \\'Rambo\\' y \\'Rambo III\\', \\'John Rambo\\' utiliza el \"estilo post 11-S\" y raya a gran altura en las escenas de acción.', 'Y Loquillo con sus trogloditas.', 'El guión toma de aquí y de allí hasta que el mcguffin hitchcokiano nos ha prendado y nos pueden contar la historia que quieran porque ya tragamos.', 'El género va cambiando hacia la mitad, convirtiéndose al terror cuando debe escapar de los zombies, para asentarse hacia el final en la acción pura y dura y nuevamente el drama en los últimos compases.', 'En 1982 interpretó uno de los dos papeles por los que siempre será recordado: John J. Rambo, un atormentado veterano de Vietnam que respondía a la violencia con el mismísimo armagedón.', 'La película trata de un mundo futuro, en el que un virús creado por el hombre para hacer soldados que maten más y mejor, ha convertido a una parte de la sociedad en hemófagos (que comen sangre).', 'Más dura que Dogville, Von Trier muestra, como lo hizo en ésta, que las personas somos unos verdadera mierda, solo que esta vez llega más lejos, porque no se salvan ni los recogedores de algodón.', 'Resumiendo, mucha acción, muchos muertos, pero la sensación de vacío existencial ante tanta violencia sin venir a cuento que te deja, ha hecho que mi paz interior se vea resquebrajada.', 'También asistimos a los esfuerzos del protagonista por encontrar la cura del virus y arreglar todo el desagisado que se ha causado.', 'Unos misioneros que pretenden aliviar el sufrimiento de la cruda guerra civil birmana son capturados por el ejército, y Rambo decide volver al infierno, tras aceptarse por fin a sí mismo: él no va a la guerra, él es la guerra.', 'Yo la vi en versión original - con subtítulos, que ayudan porque de cuando en cuando usan giros gramaticales algo extraños - y eso ya es la pera limonera.', 'Pero está claro que si uno vale, vale.', 'Las personas somos una puta mierda.', '(¿Será suya?', 'Geniales créditos finales.', 'Pues bien, Rambo vuelve a la carga veinte años después.', '(¿O en Dear Wendy está presente algún jodido punto del jodido juramento?', 'Ese podría ser el título de la saga ideada en la cabeza de ese gran hijo de la gran puta que es Lars Von Trier.', 'Del batiburrillo sale Ultravioleta que mata en toda la película a no menos de un millar de seres humanos.', 'Mucho me habían hablado de la película 300, y aunque no me he leído el cómic de Frank Miller - un dios en ese mundillo - en el que está inspirada, tenía ganas de ver si la adaptación valía la pena.', 'Por último, un apunte para los directores que pretendan acongojar al personal (como si lo fueran a leer).', 'La acción del principio está bastante bien, aunque termina agotando, dando paso a un soplapollez absoluta, en la que la cruel y despiada asesina saca a relucir sus sentimientos hacia un niño.', 'Esta comedia americana ya ha hecho su estreno en la mayoría de países y fue una cinta bastante sonada en los Estados Unidos que incluso llegó a ocupar el primer lugar en taquilla, algo que me parece exagerado después de haberla visto.', 'Las dos horas justitas que narran la historia de la batalla del paso de las Termópilas en el 480 A. C. se me fueron en un suspiro, y disfruté de cada momento.', 'Y finalmente desemboca en unos bruscos saltos entre la trepidante acción y las noñeces que no vienen a cuento.', 'Gracias al sentido común de su actor-director y a un acertado y crudo envoltorio visual obra de Glen McPherson y Franco-Giacomo \"Hostel\" Carbone, \\'John Rambo\\' es una notable película bélica a pesar de puntos negros como la falta de carisma de los actores que acompañan a Sly en el reparto, esa primera media hora demasiado redundante o ese final desaprovechado en parte.', 'Me pregunto: ¿Qué habra sido de esta película sino hubiese contado con la participación de estos dos actores?', 'Ahora Grace se encuentra con un pueblucho donde la esclavitud sigue presente y decide intervenir.', 'Imprescindible.', 'Además se puede conferir a la historia de un interesante halo catastrofista y de advertencia al atribuir la propagación del virus al propio ser humano, contando que éste es en principio una mutación de un virus mortal que en principio va a ganar la batalla contra el cáncer.', 'Confieso que la disfrute en mi más íntima subjetividad y que su 1:37 min se pasan relativamente rápido.', 'Se inicia la trama observando la vida de Robert Neville a solas con su perra de una forma que nos recuerda a Náufrago, la lucha de un tipo intentando no volverse loco con su soledad.', 'Además, es demasiado previsible.', 'El resultado es el temido, al final has visto un batiburrillo de ideas de las que es muy difícil quedarse con nada, salvo con la actuación de un Will Smith que ya había demostrado que es capaz de cargar una película a sus espaldas, pero que no tiene un ojo demasiado clínico a la hora de elegir guiones que no sean de comedia.', 'Un 9.', '¿Que puedo decir que no os supongais ya?', 'Tampoco hay un derroche de diálogos inteligentes, que no se deben confundir con un derroche, eso si, de genialidad por parte Nicholson para saber cómo decir unos diálogos simples para que suenen como tales.', 'Siguen siendo invisibles casi todos los elementos \"presentes\", pero lo que deslumbra en todo momento es un guión prodigioso y unas excelentes interpretaciones, sobre todo una Bryce Dallas Howard, de la que me he enamorado definitivamente y que es con toda seguridad, el mejor trabajo de Ron Howard.', 'Los diálogos son entretenidos, divertidos y nos ponen a pensar y reflexionar sobre las decisiones que tomamos o las que dejamos de tomar en nuestra vida.', 'El problema viene cuando todo se queda a mitad de camino entre géneros y es en este momento cuando uno sale del cine convencido de que no ha visto absolutamente nada.', 'No está mal la premisa para abrir un debate de la lucha del hombre contra la naturaleza o de la eterna búsqueda de la inmortalidad.', 'Otra de las cosas interesantes de la película resulta el hecho de ver como se sostiene a lo largo de su metraje, entre la delgada línea que separa esta trama de lo trágico y lo cómico sin que realmente se llegue a sobrepasar alguna de ellas, permitiendo de este modo, que de un tema tan doloroso y real como lo es el cáncer, nos saque unas cuentas risas tímidas y respetuosas.', 'Imaginaron de qué va la película.', 'PD: El bueno de Netámbulo ya ha hecho su propia valoración de algunas escenas ?sospechosamente julais?', 'Bueno, pelirroja si que es) John Hurt sigue narrando la historia, dividida en nueve partes o capítulos.', 'Me han gustado mucho pequeños detalles, como los teléfonos móviles del futuro, y en general la de cositas que estrenaremos cuando el virus ese se extienda.', 'Si encima, la idea se saca de una conocida novela, leída por millones de personas y llevada al cine en dos ocasiones anteriores, uno se asegura casi por completo que la parte fundamental de la historia no va a ser mala.', 'Hace ya mucho que sabía que Miller era un genio, porque entre otras cosas se encargó de guiones legendarios de la Marvel como la minisaga ?Born again?', 'Como suele pasar en estos casos, una unión entre militares y médicos ha dado como resultado una dictadura que maneja muy extrictamente los designios de la Humanidad.', 'Y para variar, a los que quieren exterminar se han puesto de uñas y se dedican a masacrar humanos.', 'Las buenas ideas abundan en el cine.', 'Y cuando lo fácil sería facturar un divertimento light en el que el soldado perfecto destrozara musulmanes, Stallone se pone al mando del proyecto para devolvernos a un personaje moralmente machacado, más allá de cualquier redención, y más violento que nunca.', 'Y ya lo creo que la vale.', 'PD2: A pesar de los rumores, no se ve ningún animal muerto en la peli, aunque si lo hubo, ahí queda la noticia.', 'PD: Vaya racha de sobresalientes, ojalá se mantengan, aunque lo dudo mucho.', 'Manderlay, 2005, es la segunda de una trilogía que inició Dogville (2003) y que cerrará Wasington.', 'En este caso se parte de la novela superventas de Richard Matheson Soy leyenda, que con cambios sustanciales introducidos, relata como un científico del ejército se convierte en el último hombre sobre la tierra, siendo el único ser humano inmune a un virus que convierte a los hombres en una especie de vampiros rabiosos sin otro cometido en su existencia que el de comerse a sus congéneres sanos.', 'De vez en cuando nos asaltan flash-backs del intento de Neville de salvar a su familia en un drama vertiginoso.', 'Eso no es más que la evidencia de que son el único motor realmente importante que hace sacar adelante este filme.', '¿Notaron la cantidad de veces que mencioné a Freeman y Nicholson en este post?', 'Pero tal y como dice Arturito, como estamos en España, lo nacional no vende, y han quedado prácticamente olvidados.', 'de la peli, pero de los aspectos menos serios (como del patrocinio de Suchard, menudas tabletas de chocolate que tenían los espartanos por abdominales) ya habla él :-)PD 2: Hace poco salió meneada una columna de Pérez-Reverte en la que el siempre ingenioso escritor hablaba de ?Los otros 300′, los almogáraves, que eran también de aquí te espero.', 'Vamos a empezar por el lado positivo.', 'Por lo visto Miller estuvo muy encima durante la producción - algo de lo que otros autores pasan, véase del caso de \"From Hell\" y del bodrio de película que salió a partir de un cómic magistral - y eso ha permitido que la película refleje fielmente la grandeza del cómic.', 'De hecho solo hay que echar un vistazo a los largometrajes que circulan por el mundo, un buen ejemplo de buenas ideas, muchas de ellas muy bien llevadas a cabo.', 'Una historia que es - con algunas libertades respecto a lo que ocurrió en realidad - simplemente épica.', ')Supongo que cuando descubrieron la música pop, los muy gilipollas renunciaron a sus principios.', 'A todo esto dando meneos de espada a todo el que se arrima.', 'El tratamiento digital de cada uno de los fotogramas muestra escenarios y ambientes imposibles, pero lo hace de una manera sorprendentemente afín a la historia.', 'Obviamente los principales causantes de esta magia son los dos mega actores Jack Nicholson y Morgan Freeman y el hecho de verlos reunidos por vez primera.', 'Todos ellos, desde Gerard Butler - un Leónidas espectacular - a Lena Heady, que como en otras pelis, está como un queso, además de hacerlo bien.', 'Me asquea sobremanera el movimiento intelectualoide que se inventaron los listillos como él o Vinterberg y del que, mira tú por donde, de momento no hay ni rastro.', 'Los actores lo bordan.', 'A veces las cosas, aunque las hagamos con buena intención, no deberían arreglarse, los geniales giros argumentales del film se encargan de demostrarlo.', 'El problema suele presentarse al rodear ese núcleo de una historia atractiva.', 'Yo diría que es muy probable que supere incluso a la novela gráfica, porque la película es pura plasticidad en movimiento.', 'Y todos salimos ganando.', 'Antes de Partir es una cinta sencillamente agradable, relajada que se deja ver.', 'Pero nadie que se haya acercado lo suficiente al filo ha logrado permanecer de una pieza como para luego contarlo.', 'Gotham es oscura y nocturna, pero también diurna y nítida, todo ello sin desentonar.', 'Contra más intentan explicarlo más se lían y se contradicen, contra más razonable quiere parecer más ridícula es la explicación, y si no me ciño a la escena final en el ático y reto a cualquier hijo de vecino a que me diga cómo, dónde y por qué se inició toda la infección-posesión.', 'Así los reporteros, policías, bomberos y vecinos se van a ver atrapados y sellados dentro junto con un virus misterioso que convertirá en zombies a todos los que se vean infectados por él.', 'Mucho tiene que ver en el resultado la excelente elección -y la actuación- del galés Christian Bale, actor teatral poco conocido a pesar de su carrera extensa, que se convierte de aquí en más en EL punto de referencia.', 'En resumen, una perdida de tiempo, dinero y encima una sensación de estafa por haber querido ser como las personas del anuncio cuando en realidad me he aburrido como una ostra.', 'Jack Nicholson decía acerca de esta película: Son las cosas que no haces en la vida, las que más lamentas, no las que haces y podríamos decir entonces que esta es la frase que encierra el sentido más profundo que se le puede dar a Ahora o Nunca como se tradujo en España o Antes de Partir como lo hizo en mi país.', 'El resultado final es apabullante: mucha acción, bastante emoción, una música cuidada, el mejor Batman posible, el mejor traje, un excelente guión.', 'Actuaciones parejas, confirmando al irlandés Cillian Murphy (actor protagónico de Exterminio), aquí en el rol del villano llamado El Espantapájaros.', 'Hay una magia indiscutible en la cinta a pesar de la sencillez de su historia y la gran modestia de su producción.', 'Ello influído por los comics ochentosos de Frank Miller (principalmente por \"Batman: Año uno\"), autor que estableció una imagen mas dura y cruda del héroe, además de revitalizarlo.', 'No estaría del todo mal si no fuera por la incapacidad de hacer coherente lo que sucede desde el primer minuto.', 'Hoy día a logrado recaudar un poco más 80 millones de dólares con su bajo presupuesto de alrededor de los 45 millones.', 'La pánfila reportera y su cámara empiezan sus entrevistas al más puro estilo España Directo hace presagiar un rollo de reportaje a no ser que pase algo.', '), pero si sé que no tiene cuando acabar.', 'Eso, en medio de tanta confusión, se llega a lograr.', 'Y las opciones que toma lo condenan para siempre, pues por siempre vivirán en él los recuerdos de tanta violencia a pesar de que al inicio de la película era básicamente un hombre promedio: amable, dedicado a su familia y con una profesión \"aburrida\".', 'Lo segundo, es la intención, hasta cierta medida bien lograda, de generar comedia a costa de una de las enfermedades más mortales hoy por hoy y que hace vulnerables desde el más joven de los seres al mas viejo, desde el más débil al mas fuerte convirtiéndola así en una historia universal, íntima, que toca las fibras y con la que más de uno podrá verse identificado.', 'En este caso se cuenta la historia a partir del asesinato de once atletas israelíes-judíos en las Olimpiadas de Munich en 1972, a cargo de once árabes-palestinos, pertenecientes a la organización Septiembre Negro, que pretendían \"marcar una posición\" política.', 'Es un sinsentido.', '¿justicia o venganza?', 'En este caso voy a traicionar este acuerdo no escrito con la industria del cine español para decir a todos aquellos ávidos espectadores que se han visto encandilados por el singular e inteligente tráiler promocional de Rec que no vayan a verla al cine, o en todo caso que rebajen sus expectativas.', 'La agresividad de esta y los acontecimientos posteriores les hacen pensar que en ese edificio está pasando algo bastante grave.', '¿Quiénes son finalmente los verdaderos terroristas?A esta servidora no le gustó Munich, sin embargo, podrían mis gustos estar muy errados, ya que la Academia le ha otorgado cinco nominaciones:Mejor PelículaMejor Dirección - Steven SpielbergMejor Guión Adaptado - Tony Cushner y Eric RothMejor EdiciónMejor MúsicaLa actuación de Eric Bana es en mi opinión lo único (o más) rescatable de la película y ésta no ha sido considerada en la selección.', 'OK, el film pretendía ser una denuncia de que la barbarie sólo genera más barbarie y más barbarie y más al infinitum.', 'Para rematar la jugada creo que Manuela Velasco es posiblemente una de las actrices más plastas, pesadas y ñoñas que haya salido en pantalla grande.', 'Nada de angustia o impresión, todo sale por la pantalla y no da tiempo a procesar ningún sentimiento, a parte del odio hacia el señor del peluquín que deseas que sea la próxima victima cuanto antes para acabar con esa visión.', 'Más no se le puede pedir a una adaptación hollywodense de este tipo.', 'De hecho, este característica es fácilmente palpable pues justo en los momentos que se lo propusieron, logran hacer reir, llorar o lamentar a los espectadores.', 'de Daredevil, un clásico que seguro que muchos aficionados al cómic conocen, pero ya no colecciono, así que he perdido la pista a este y otros artistas de ese octavo arte.', 'Lo más interesante de la película son los diálogos que sostienen estos dos monstruos de la actuación, pues el resto detalles y elementos se pueden obviar totalmente.', 'Generalmente la Academia y yo solemos estar bastante de acuerdo, pero este año lo visto hasta el momento.', 'Soy partidaria de usar el sistema, por otra parte ilegal para el espectador, de proteger el cine español a ultranza.', 'La película plantea varios dilemas morales para el protagonista israelí, Avner (Eric Bana, El Increíble Hulk, 2003): ¿se debe a su familia o a su patria?', 'Soy fan incondicional de Steven Spielberg y me gustó hasta La Guerra de los Mundos (que muchos no le perdonaron), pero ésta me dejó entre confundida y asfixiada por tanta violencia en donde ya no se entendía quién era israelí, quién palestino, en dónde estaban los protagonistas y en fin, una mazamorra de personajes e historias.', 'Un par de reporteros van a seguir a un grupo de bomberos en sus salidas de una noche.', 'Tanto el origen como los distintos accesorios -coche, baticueva, gadgets y el famoso y vilipendiado traje- se sustentan en una base creíble y bien fundamentada.', 'Difícil encontrar puntos flojos, quizás una excesiva -pero espectacular- persecución automovilística sobre techos.', 'Además todos ellos tan obvios que hasta un niño de dos años los ve venir.', 'El antes niño protagonista de El Imperio del sol, en donde también pierde en su niñez a sus padres (y mas acá de las fallidas El reinado del fuego, Shaft y Psicópata americano), le pone el cuerpo y el rostro para convertirse -sin discusión- en el Batman definitivo por presencia y actuación.', 'The Bucket List, nombre original, es de aquellas cintas que nos reconfortan el alma, nos hacen soñar y nos logran hacer erizar la piel hasta el punto casi de hacernos llorar.', 'La galería de actores secundarios de renombre (Neeson, Freeman, Caine, Oldman, Hauer) intimidan por su calidad interpretativa, logrando no ser solo relleno de una super producción de este tipo.', 'Lo cierto es que yo misma no sé desde cuando empezó esta rivalidad entre etnias diferentes (?', 'Creo que mi carrera de revisión rumbo al Oscar no está siendo muy promisoria.', 'Pero hay cosas que no funcionaron también en este film como por ejemplo el montaje de gran parte de sus escenas que se ven forzadas y bastante irreales, restándole la importancia suficiente para considerarla una buena cinta con B mayúscula.', '¿héroe o asesino?', 'No hay mucho por decir realmente acerca de esta cinta que podríamos llamar como una típica película norteamericana con la que se intenta ganar algún dinero que se salva por el hecho de reunir a los dos actores oscarizados, pero que peca por su exagerada modestia y la falta de precaución al cuidar muchos detalles en sus escenas.', 'Tres sustos contados adornan la narración.', 'Por fin reciben un aviso y se personan en un edificio donde acompañados de unos policías entran en la casa de una anciana alertados por los vecinos sobre los ruidos extraños.', 'Seguiremos viendo.', 'A primera vista y según otras críticas, la película parecía beber de Heat, esa magistral película de Michael Mann que (cómo pasa el tiempo) ya tiene 11 añitos.', 'El punto fuerte es un guión muy duro, tremendamente verosímil.', 'Esta película cuenta con dos pesos pesados del cine francés (Daniel Auteuil y Gérard Depardieu), unas secuencias de tiroteos decentes pero que ni de lejos llegan a las del film de Mann y una ambientación fría, azul.', 'La historia va sobre dos agentes de polícia de distintas brigadas que se llevan mal.', 'Por otro lado parece que el esfuerzo en escribir una historia dura ha dejado un poco de lado el aspecto de la dirección de actores, ya que dos monstruos como los de este film están bastante sosos.', 'Y ahí terminan los símiles.', 'Algunos parecidos son ciertos, pero sólo en su concepción estilística y comercial.', 'Una más que decente película que puede verse con pasión, como ha sido mi caso, y que revela un nuevo giro en las tramas policíacas modernas.', 'Tampoco uno tiene que ser fan del cómic o del personaje para poder disfrutar de esta entretenida película.', 'Tanto Emma Suárez como Julián Villagrán están discretos en sus papeles, aunque seguramente más por exigencias del guión que por demérito propio.', 'Ninguno de los personajes es un santo, pero existe un auténtico cabronazo en la historia.', 'Solo con la primer hora actuó mas y mejor, que todos los otros Batman juntos.', 'Los asuntos pendientes a los que hace referencia la película quedan bien claros a medida que avanza el metraje.', 'El guión es muy original y presumo que tienen una carga autobiográfica y una aportación personal del director muy fuerte.', 'Cierta parte del metraje pide que la seriedad e incluso la apatía de un trabajo absorbente y duro sea la protagonista, pero a medida que los personajes van cayendo en una espiral de violencia, las interpretaciones requieren mucho más pulso del que el director ha usado.', 'Y con él aumenta la incredulidad por una crueldad sin límites y una corrupcion y miseria moral sin precedentes.', 'Al final, todo es blandito blandito y supongo que el entrañable canalla al que da vida magistralmente Alberto San Juan tiene mucho que ver con esto.', 'El Batman de Christhoper Nolan deja a los anteriores versiones como meros esbozos, o solo débiles acercamientos de la esencia del hombre murciélago y su onírico mundo.', 'Mantiene ramalazos que lo hacen despreciable, pero cuando comienza su relación con \"puerquita\" el tono es más de comedia de lo que podríamos esperar en un principio.', 'El tono general se podría haber afilado bastante cambiando algunas escenas que son casi de relleno por otras que dieran al espectador la oportunidad de querer más a los personajes.', 'Muy parecidos a los casos de Habana Blues y Un franco 14 pesetas.', 'Nolan (capaz de la imaginativa Memento y de la burocrática Noches blancas), demuestra versatilidad, un buen manejo de la acción y el montaje y una visión correcta tanto en lo visual como en el guión en conjunto junto a David Goyer (amante de los comics como demostrara con intervenciones en los guiones de las tres Blade (dirigiendo la última), The Crow, Nick Fury y en las inminentes Flash y Ghost Rider), que hacen posible una primer hora sin el encapotado, sin que merme con esto el interés o el resultado final.', 'Por otro lado, tal vez le sobren unos minutos, que quitados de la media hora final podría acelerar y hacer mucho más interesante el film.', 'La introducción es ágil y explicativa, y sienta las bases de un Batman mas maduro en su concepción.', 'No es que las dos de Tim Burton estén ahora mal -acercó con vitalidad al verdadero Batman alejándolo del clown televisivo-, sino que su alabada oscuridad y visión se ven superada por esta nueva versión (y con toda seguridad) a años luz de las últimas mariconadas que logró Schumacher con el personaje, considerado -junto a Superman y Mickey Mouse- como las mejores creaciones ficticias de la historia.', 'Es cierto que el hecho de estar basada en una novela cierra el camino a variantes argumentales más interesantes, pero estoy seguro de que se podría haber hecho algo mejor.', 'En definitiva, Bajo las Estrellas es una gran película que podría haber sido mucho más si hubieran apostado por unos personajes secundarios con más fuerza, a costa de restar protagonismo a los principales.', 'En cualquier caso, Alberto borda su personaje y tiene gran química con la pequeña Violeta Rodríguez, lo que hace que sus escenas sean lo mejor que nos ofrece la cinta.', 'Aunque el macguffin de la película sea el atrapar a unos ladrones de furgones blindados, la trama gira en torno a las envidias y malas jugadas que ciertos policías hacen por motivos pasados que se dejan ver pero no se explican, lo cual es que agradecer.', 'Los mimbres para golpear al espectador están, pero finalmente se queda en el cuento del hermano pródigo que descubre en el mundo rural todo lo que le había robado la ciudad.', 'Sin embargo, si quitamos su interpretación de la ecuación, el resultado final no tiene mucho que ofrecer.', 'No hay estridencias en el argumento y el espectador está siempre con la sensación de que la trama va a romper por algún sitio.', 'El alma de Bajo las Estrellas es la transformación del personaje protagonista, que comienza siendo un trompetista alcohólico rendido a la noche madrileña y poco a poco se va acercando al espectador.', 'No en vano Olivier Marchal fue policía mientras estudiaba interpretación y hacía tareas de guionista, y seguramente sus experiencias se reflejan en varios momentos del film, totalmente originales (el robo de la placa, el repudio en un acto oficial, etc?).', 'Es una historia que debería ser trágica, pero que en el fondo resulta amable.', 'Lo cierto es que rompe, pero por el lado menos doloroso y, aunque suene a masoquista, esta es una de esas películas que deberían dar directo al hígado y después repartir algo de dulce para no salir con ganas de suicidarse.']\n",
            "['Los personajes, desdibujados, perdidos y estereotipados hasta el extremo, son más planos que el encefalograma de un silbido.', 'La abogada se decidió a venir conmigo a pesar de que los vampiros eran personajes de la película y estuvo bastante más asustada en las partes en las que Will Smith recorre casas vacías y habitaciones oscuras que en las que al fin el vampiro de turno asoma su careto generado por ordenador (sin contar el clásico susto a base de subida de volumen y aparición rápida de bicho en pantalla, que funciona incluso si el bicho de turno es Bambi).', 'Y en resumen, ese era el mensaje principal de la película, que bien pudo habernos ahorrado unas cuantas muertes y minutos.', 'Entre medias, el espectador asiste a un doble melodrama barato: por un lado tenemos un conflicto paterno-filial que haría sonrojar de vergüenza al mismo Sigmund Freud, y por otro nos encontramos con la edulcorada relación entre Eric Bana y Drew Barrymore.', 'Luego se desmadra totalmente y empieza el \"todo vale\", con bailes que muestran esa banda sonora de manera demasiado obvia o escenas propias de anuncios publicitarios.', 'Extraña es mi relación con el director, ya que Dogville, esta Manderlay o Bailando en la oscuridad me parecen prodigiosas, lo que ocurre es que Los idiotas me parece una de las mayores ofensas que yo haya visto jamás, lo que me hizo renegar de él hasta que vi \"el musical\" con Bjork.', 'del dia a la mañana Mr Frodo tiene dos hembras locas por él, así por que él lo vale.', 'O dicho de otro modo, que mojón de a kilo me he tragado sin comerlo ni beberlo.', 'La cinta es una especie de cruce surrealista entre el Proyecto de la Bruja de Blair (por el carácter subjetivo de grabación y el robo descarado de planos), y las mejores y peores cintas de zombies de la historia del cine (incluyendo a la cabeza del plagio a 28 Días Después).', 'Las escenas de lucha y las coreografías son increíbles, y dejan las batallitas de Troya en casi una anécdota, y el guión - que lo es todo en una película - no hace más que ayudar.', 'Una escena que me pareció excelente es cuando uno de los capos de la corporación discute con el abogado que le insinúa que los \"favores\" y presiones no son tan buenas ideas como parecen respondiéndole que: \"La corrupción es nuestra protección.', 'Y el guión no mata, no.', ', Sr. Lynn Bousman, con todos mis respetos usted no es (ni será a este paso) Iñarritu en Amores Perros o 21 gramos, y ni mucho menos Nolan en Memento o Tarantino en Pulp Fiction; entonces no lo intente por favor, deje eso a los profesionales de verdad.', 'En definitiva, un servidor tan sólo destacaría la primera mitad de película, pues en cuanto Will Smith debe comenzar a interactuar, Soy leyenda se pierde por derroteros palomiteros que, a pesar de ser (relativamente) necesarios entoda superproducción, planteados de otro modo habrían dado pie a una película completamente distinta y, probablemente, bastante redonda.', 'Eso a veces se traduce en adornar sutilmente las virtudes de una cinta y esconder un poco sus errores redondeando a la alza, como si del euro se tratase, el resultado general de la misma.', 'A todo esto le sumamos el (im)previsible giro argumental del final -típico en la saga- y tenemos una basura en toda regla.', 'Pese a todo, otra muestra más de que en el cine español hay profesionales capaces de llevar a la pantalla historias cercanas y capaces de tocarnos la fibra sensible, que para los Transformers ya tenemos a Michael Bay.', 'Lo mejor, la perra Sam.', 'Pero la verdad es que hay dos explicaciones a eso: la primera es que estamos en una película coral en la que no tendría mucho sentido que unos destacasen sobre otros y la segunda es que tuve la desgracia de ver la película doblada (si somos los que mejor doblamos del mundo no me quiero imaginar cómo serán los peores).', 'Al grano: Lo único rescatable: el gestito de maldita de la nana Baylock, entrenadora incanzable del adorable Damien Thorne en sus primeras maldades que, en aras de la modernidad ya no se hacen, por ejemplo, con triciclo, sino con Scooter.', 'que vuelva el Joker también!', 'Siendo una de las campañas más engañosas de la temporada la sutileza de enseñar las caras de aterrados espectadores viendo a película en una sala de cine y no hablando ni media palabra de su argumento han conseguido que hordas de adolescentes vayan a ver terror patrio y se han ahorrado la vergüenza de resumir en dos minutos una película sin pies ni cabeza que además tiene cuatro sustos contados que seguramente hubiesen sido destripados en su promoción.', 'Extrañamente lo escogen para dirigir un grupo anti-terrorista secreto, compuesto por una serie de personajes tan inexpertos en el \"arte\" de matar como él.', 'Parece que ellos son los únicos habitantes del planeta que lo desconocían, entonces desde ese punto de vista cualquier cosa que se diga es arriesgada.', 'Caso de que Snekers hubiese sido filmada en Europa por mano europea, tendríamos una cinta más genuinamente social, un producto escorado a la explotación de la bis política que arañara ( a zarpazos si pudieran ) la conciencia del espectador sin tampoco gastar cuartos excesivos.', 'Y entre esos complejos se cuela el personaje de Drew Barrymore, que más que florero parece el típico y molesto moscardón.', 'Munich me gustó tan poquito que toda la película me la pasé deseando estar en mi casa viendo los castings de American Idol, imaginen mi aburrimiento.', 'Djimon Hounsou realiza un buen trabajo, pero sin alardes, mientras que Jennifer Connelly, además de no despeinarse pase lo que pase, no sabe ni sostener de forma convincente la cámara de fotos.', 'Por si fuera poco el suplicio, el peso de la cinta recae en Will Ferrel, un actor lleno de matices, concretamente dos: del hieratismo personificado puede transformarse en la mejor aproximación posible del muñeco diabólico.', 'El resto es para olvidar, lo cual no será fácil debido a las dos horas de duración de la cinta.', 'Tras dos secuelas que explotaban el mito de la máquina de matar humana, aunque entonces contra los peores enemigos de los USA, la Unión Soviética se derrumbó, el comunismo desapareció como gran amenaza y Rambo se quedó sin enemigos a los que masacrar.', 'Un agente del gobierno norteamericano accidentalmente \"pierde\" el paradero de un misil, una corporación de Estados Unidos hace todo lo que está a su alcance para fusionarse con una petrolera árabe y cuando digo todo es TODO.', 'Ah, que querés!', 'Cuenta la leyenda que en las inscripciones de la espada del la señorita Violeta (que el ultra no se de que viene) están escritas la fórmula para crear oro, el secreto de quien mató a Kenedy, como un simple camarero en España puede pasar en pocos años a ser una de las mayores fortunas del país y cosas así.', 'Por culpa de ese exceso de pretensiones tenemos personajes que no pintan nada y que llegan a desaparecer de la acción, como por arte de magia, puede que para evitar el problema de no saber qué hacer con ellos en las escenas finales (aún así el problema se hace evidente).', 'La película trata sobre una chica que va caminando por París y se cruza con un tipo al que se le clarea el cartón, y que le debe sacar unos cientos de años.', 'Pero entonces la única posesión demoniaca que parece evidente en el estrecho pasillo de Cineplanet Alcázar es el espíritu novelero con sus dosis de nostalgia setentera u ochentera - como en mi caso- que impulsa a más de uno, a devorar palomitas en espera del comienzo de la peliculeta de marras.', 'Apenas son las 11 y 20 de la noche y aunque aún faltan 40 minutos para el inicio de la película, Leuzor y yo debemos estar en los puestos 61 y 62 de los ansiosos que esperan el Avant Premiere de La Profecía, el remake de aquel clásico blockbuster de 1976.', 'Digo primero, porque tiene muchos más, el segundo y muy grave es el casting, Elijah Wood, Mr Frodo para los amigos, tiene el mismo carisma que Jesulín en Cannes, inexpresivo, poco creible, se pasa toda la película con cara de sorprendido (enormes ojos, parece recibir un sartenazo en la cara), abro una puerta me sorprendo, cojo el autobus me sorprendo, abro unyogourth.', 'Lo que no podía faltar es el típico y riguroso conflicto humano-lacrimógeno, representado en esta ocasión por el personaje de Djimon Hounsou y su hijo, cuyo clímax es una de las escenas más ridículas del film.', 'Y la bella Hathaway, de cuyo bagaje sólo se puede subrayar su trabajo en Brokeback Mountain, aprenderá la leccioncita de vida de rigor.', 'Dicen los propios guionistas que la peli se gestó en la misma época que viven los protagonistas del film, quizás por eso hay bastante honestidad en la peli y no tenemos chicas desnudas retozando por las camas: aquí nadie se come un colín.', \"Desde luego, Disney ha dado un GRAN -y muy agradecido- paso respecto a la penosidad de 'Chicken Little'.\", 'Buff, ¿qué quereis que os diga de una película cuya traducción castiza sería To petao y rabioso, derrapando en Tokyo?', 'Una lástima que en lugar de tomar el camino de la investigación policial y el juego del gato y el ratón (que lección de cine la que da Scorsese en The Departed, por cierto) tome el más cool de la filosofía new age.', 'De hecho, cuando se encuentra con sus parteners femeninas, Leonor Watling y Julie Cox tienen la misma química que Mel Gibson y la Pantoja.', 'Dicho todo esto, supongo que no resulta sorprendente que diga que fui a ver \"María Antonieta\" sin esperar nada más que un alarde de lo modernita que puede llegar a ser su directora.', 'Y lo típico, para tí, para mí, pumba (que diría mi bebé) ya están quilando como micos en el zoo.', 'Como casi todo el cine anglosajón, \"Hijos de los hombres\" parte de una premisa apasionante, una embarazada en un mundo sin hijos es suficiente para hacer andar cualquier película.', 'Resumiendo, la peor \"película\" que he visto nunca.', 'Habrá más de un espectador, que atónito ante semejante cúmulo de despropósitos, se tirará al suelo desesperado, gritando cosas como ¡que alguien me arranque los ojos!', 'Se trata de un film realizado como medio de lucimiento de la gran diva Beyoncé Knowles, a la que triunfar en la música no le basta, así como de la nueva estrella mediática estadounidense, Jennifer Hudson, ganadora del American Idol.', 'Resumiendo, clásico del cine que no me he enterado de que va, pero que sale el Marlon Brando antes de inflarse como un sapo y una moza de felpudo bien cargado.', 'De manera equivocada pero inevitable se la compara con American Pie, que tenía de honesto y de sincero lo que tenía Rollerball 2002 de John McTiernan.', 'La fase en la que nada importa más que su virginidad y su enemistad con la amante del rey, la fase música, pasteles y colorines, la fase bucólica \"ovejitas y jardín\", y así hasta el final -precipitadísimo, por cierto-.', 'Una estafa total y absoluta para el espectador, donde, sin orden ni concierto trata de llevar al límite situaciones \"normales\".', 'Y sus empleados le rinden un vasallaje propio del medievo.', 'o susurrando a su compañero de butaca por favor, mátame ya y pon fin a mi suplicio.', 'Sin embargo, el Director Artístico y el de fotografía tuvieron sus aciertos al mostrarnos escenarios y atmósferas frías y por momentos surrealistas, como el consultorio psiquiátrico a donde los Thorn acudían en búsqueda de respuestas ante el incomprensible comportamiento de la adorable criatura.', 'Pretende ser tanto una comedia de altura como un drama acerca de los sentimientos humanos, aunque el producto resultante se acerca más al patetismo puro y duro que a otra cosa.', 'Esperaba mas acción en ellas y solo veía carnicería de caballos (lluvia de sangre) y cuatro espadazos que parecían de escuela cuando te enseñan a cruzar las espadas y dar mandobles.', 'Eso es cierto, pero es que la niña pegaba unos bostezos que rieté tu del leon de la Metro.', 'Un peliculón que será aún más grande cuando entienda lo que dicen los protagonistas.']\n"
          ]
        }
      ],
      "source": [
        "# open file in current directory\n",
        "import os\n",
        "notironic = []\n",
        "ironic = []\n",
        "for filename in os.listdir(\"reviews_test_dist/ironic\"):\n",
        "   with open(os.path.join(\"reviews_test_dist/ironic\", filename), 'r') as f: # open in readonly mode\n",
        "         ironic.append(f.read())\n",
        "\n",
        "for filename in os.listdir(\"reviews_test_dist/notironic\"):\n",
        "   with open(os.path.join(\"reviews_test_dist/notironic\", filename), 'r') as f: # open in readonly mode\n",
        "         notironic.append(f.read())\n",
        "\n",
        "print(notironic)\n",
        "\n",
        "print(ironic)"
      ]
    },
    {
      "cell_type": "code",
      "execution_count": null,
      "metadata": {
        "id": "iZPPbD1Y5_Lj",
        "colab": {
          "base_uri": "https://localhost:8080/"
        },
        "outputId": "d65eb060-2429-4110-f45d-71131412b2ed"
      },
      "outputs": [
        {
          "output_type": "stream",
          "name": "stdout",
          "text": [
            "tf.Tensor(\n",
            "[[0.87535167]\n",
            " [0.17990087]\n",
            " [0.78060275]\n",
            " [0.82809156]\n",
            " [0.95379025]\n",
            " [0.90425646]\n",
            " [0.17371218]\n",
            " [0.9282394 ]\n",
            " [0.88340974]\n",
            " [0.12922737]\n",
            " [0.31149796]\n",
            " [0.03838385]\n",
            " [0.29580954]\n",
            " [0.67197424]\n",
            " [0.26239702]\n",
            " [0.20304576]\n",
            " [0.3543685 ]\n",
            " [0.83357114]\n",
            " [0.10532773]\n",
            " [0.95114183]\n",
            " [0.19979307]\n",
            " [0.45041814]\n",
            " [0.2978837 ]\n",
            " [0.6781876 ]\n",
            " [0.5393655 ]\n",
            " [0.7809755 ]\n",
            " [0.90305704]\n",
            " [0.07308943]\n",
            " [0.2975498 ]\n",
            " [0.71212745]\n",
            " [0.47955614]\n",
            " [0.35809067]\n",
            " [0.45806348]\n",
            " [0.9428966 ]\n",
            " [0.16900465]\n",
            " [0.85476065]\n",
            " [0.13748808]\n",
            " [0.21060623]\n",
            " [0.6742329 ]\n",
            " [0.21795791]\n",
            " [0.20638059]\n",
            " [0.11355668]\n",
            " [0.5528428 ]\n",
            " [0.09637652]\n",
            " [0.7061429 ]\n",
            " [0.44399196]\n",
            " [0.08917384]\n",
            " [0.30830622]\n",
            " [0.90116173]\n",
            " [0.33554336]\n",
            " [0.57053316]\n",
            " [0.9507784 ]\n",
            " [0.40348667]\n",
            " [0.88093966]\n",
            " [0.22122113]\n",
            " [0.30273035]\n",
            " [0.50997156]\n",
            " [0.44625828]\n",
            " [0.30497578]\n",
            " [0.90811795]\n",
            " [0.23758323]\n",
            " [0.53503865]\n",
            " [0.5814956 ]\n",
            " [0.9535852 ]\n",
            " [0.7928967 ]\n",
            " [0.23749505]\n",
            " [0.88841605]\n",
            " [0.94478065]\n",
            " [0.4150605 ]\n",
            " [0.71388596]\n",
            " [0.5418346 ]\n",
            " [0.30641124]\n",
            " [0.7032673 ]\n",
            " [0.14600572]\n",
            " [0.22142705]\n",
            " [0.21747383]\n",
            " [0.22167872]\n",
            " [0.42654315]\n",
            " [0.29935667]\n",
            " [0.22349612]\n",
            " [0.5479331 ]\n",
            " [0.14147256]\n",
            " [0.20963885]\n",
            " [0.76786494]\n",
            " [0.6959065 ]\n",
            " [0.26794818]\n",
            " [0.41018805]\n",
            " [0.3889411 ]\n",
            " [0.49303222]\n",
            " [0.837442  ]\n",
            " [0.5763774 ]\n",
            " [0.48386887]\n",
            " [0.67117864]\n",
            " [0.25026983]\n",
            " [0.8762387 ]\n",
            " [0.23202604]\n",
            " [0.74594945]\n",
            " [0.43781486]\n",
            " [0.4993697 ]\n",
            " [0.9507288 ]\n",
            " [0.19906613]\n",
            " [0.6743458 ]\n",
            " [0.56964076]\n",
            " [0.8461084 ]\n",
            " [0.17341127]\n",
            " [0.7985481 ]\n",
            " [0.73049015]\n",
            " [0.853987  ]\n",
            " [0.53027874]\n",
            " [0.66725135]\n",
            " [0.9442678 ]\n",
            " [0.9150211 ]\n",
            " [0.75614524]\n",
            " [0.6314175 ]\n",
            " [0.84892976]\n",
            " [0.86844796]\n",
            " [0.04000583]\n",
            " [0.95517766]\n",
            " [0.3346882 ]\n",
            " [0.31946358]\n",
            " [0.7319817 ]\n",
            " [0.4054406 ]\n",
            " [0.8425578 ]\n",
            " [0.4261154 ]\n",
            " [0.6447842 ]\n",
            " [0.96473175]\n",
            " [0.0563512 ]\n",
            " [0.95476735]\n",
            " [0.7757098 ]\n",
            " [0.8912504 ]\n",
            " [0.9036641 ]\n",
            " [0.14471945]\n",
            " [0.06610214]\n",
            " [0.1009155 ]\n",
            " [0.42099702]\n",
            " [0.2969883 ]\n",
            " [0.9621936 ]\n",
            " [0.94639516]\n",
            " [0.84957176]\n",
            " [0.500051  ]\n",
            " [0.32109362]\n",
            " [0.2784103 ]\n",
            " [0.03078075]\n",
            " [0.6094212 ]\n",
            " [0.20223287]\n",
            " [0.9055773 ]\n",
            " [0.11970501]\n",
            " [0.9108338 ]\n",
            " [0.9050165 ]\n",
            " [0.33298936]\n",
            " [0.8855499 ]\n",
            " [0.2770589 ]\n",
            " [0.5970877 ]\n",
            " [0.3756516 ]\n",
            " [0.89273787]\n",
            " [0.87469524]\n",
            " [0.9362309 ]\n",
            " [0.61955   ]\n",
            " [0.8781392 ]\n",
            " [0.05648494]\n",
            " [0.53739583]\n",
            " [0.75211823]\n",
            " [0.24783131]\n",
            " [0.86308056]\n",
            " [0.19741565]\n",
            " [0.32622448]\n",
            " [0.6926956 ]\n",
            " [0.44491482]\n",
            " [0.9423872 ]\n",
            " [0.6219994 ]\n",
            " [0.43208033]\n",
            " [0.9571195 ]\n",
            " [0.656835  ]\n",
            " [0.9652645 ]\n",
            " [0.32344332]\n",
            " [0.9582469 ]\n",
            " [0.9079707 ]\n",
            " [0.7197862 ]\n",
            " [0.7387822 ]\n",
            " [0.41292083]\n",
            " [0.64354104]\n",
            " [0.6930714 ]\n",
            " [0.9350108 ]\n",
            " [0.1339516 ]\n",
            " [0.14520383]\n",
            " [0.95865464]\n",
            " [0.4779779 ]\n",
            " [0.8109323 ]\n",
            " [0.82874656]\n",
            " [0.81232446]], shape=(190, 1), dtype=float32)\n",
            "tf.Tensor(\n",
            "[[0.38768104]\n",
            " [0.82843775]\n",
            " [0.46763474]\n",
            " [0.90409106]\n",
            " [0.6016329 ]\n",
            " [0.35057265]\n",
            " [0.20619167]\n",
            " [0.14620276]\n",
            " [0.9070985 ]\n",
            " [0.909808  ]\n",
            " [0.966407  ]\n",
            " [0.4781597 ]\n",
            " [0.75359267]\n",
            " [0.93138194]\n",
            " [0.0814039 ]\n",
            " [0.80972964]\n",
            " [0.7136171 ]\n",
            " [0.07980149]\n",
            " [0.3157993 ]\n",
            " [0.24515414]\n",
            " [0.3621602 ]\n",
            " [0.9590488 ]\n",
            " [0.46674135]\n",
            " [0.14714974]\n",
            " [0.7074894 ]\n",
            " [0.14052823]\n",
            " [0.73091847]\n",
            " [0.94193137]\n",
            " [0.77446496]\n",
            " [0.08087057]\n",
            " [0.3119267 ]\n",
            " [0.4341447 ]\n",
            " [0.43986905]\n",
            " [0.0471345 ]\n",
            " [0.25252578]\n",
            " [0.25072727]\n",
            " [0.8181907 ]\n",
            " [0.7268335 ]\n",
            " [0.925218  ]\n",
            " [0.8926217 ]\n",
            " [0.12613487]\n",
            " [0.77225786]\n",
            " [0.63309234]\n",
            " [0.45488653]\n",
            " [0.94152117]\n",
            " [0.739425  ]\n",
            " [0.1984701 ]\n",
            " [0.09304495]\n",
            " [0.87051153]\n",
            " [0.7377309 ]\n",
            " [0.8123028 ]\n",
            " [0.67069966]\n",
            " [0.52770555]\n",
            " [0.2938225 ]\n",
            " [0.28516483]\n",
            " [0.6841381 ]\n",
            " [0.05622062]\n",
            " [0.6538547 ]\n",
            " [0.63885033]\n",
            " [0.66349673]\n",
            " [0.24730566]\n",
            " [0.11400881]\n",
            " [0.21730533]], shape=(63, 1), dtype=float32)\n"
          ]
        }
      ],
      "source": [
        "\n",
        "serving_results = reloaded_model \\\n",
        "            .signatures['serving_default'](tf.constant(notironic))\n",
        "\n",
        "serving_results_notironic = tf.sigmoid(serving_results['classifier'])\n",
        "\n",
        "serving_results_iro = reloaded_model \\\n",
        "            .signatures['serving_default'](tf.constant(ironic))\n",
        "\n",
        "serving_results_ironic = tf.sigmoid(serving_results_iro['classifier'])\n",
        "\n",
        "print(serving_results_notironic)\n",
        "print(serving_results_ironic)"
      ]
    },
    {
      "cell_type": "code",
      "execution_count": null,
      "metadata": {
        "id": "Z2O7QFyaV2qG",
        "colab": {
          "base_uri": "https://localhost:8080/"
        },
        "outputId": "2d67c386-bb05-41aa-8517-d85dbac15145"
      },
      "outputs": [
        {
          "output_type": "stream",
          "name": "stdout",
          "text": [
            "\n",
            "/////////////////////////\n",
            "\n",
            "\n",
            "/////////////////////////\n",
            "\n",
            "102\n",
            "88\n"
          ]
        }
      ],
      "source": [
        "# for i in range(len(serving_results_notironic)):\n",
        "#   print(serving_results_notironic[i][0])\n",
        "\n",
        "results1 = print_my_examples(notironic, serving_results_notironic)\n",
        "print(\"\\n/////////////////////////\\n\")\n",
        "\n",
        "scores1 = []\n",
        "for result in results1:\n",
        "  score = \"\"\n",
        "  for i in range(8):\n",
        "    score = score + result[len(result) +i-8 ]\n",
        "    #print(score)\n",
        "  scores1.append(float(score))\n",
        "\n",
        "print(\"\\n/////////////////////////\\n\")\n",
        "# print(scores1)\n",
        "\n",
        "true_negative = 0\n",
        "false_positive = 0\n",
        "for score in scores1:\n",
        "  if score >= 0.5:\n",
        "    true_negative = true_negative + 1\n",
        "  else:\n",
        "    false_positive = false_positive + 1\n",
        "\n",
        "print(true_negative)\n",
        "print(false_positive)"
      ]
    },
    {
      "cell_type": "code",
      "execution_count": null,
      "metadata": {
        "id": "MbjNRJC-cqa5",
        "colab": {
          "base_uri": "https://localhost:8080/"
        },
        "outputId": "03535448-6b4c-404b-b409-a6f8efd1b9b1"
      },
      "outputs": [
        {
          "output_type": "stream",
          "name": "stdout",
          "text": [
            "\n",
            "/////////////////////////\n",
            "\n",
            "\n",
            "/////////////////////////\n",
            "\n",
            "[0.387681, 0.828438, 0.467635, 0.904091, 0.601633, 0.350573, 0.206192, 0.146203, 0.907098, 0.909808, 0.966407, 0.47816, 0.753593, 0.931382, 0.081404, 0.80973, 0.713617, 0.079801, 0.315799, 0.245154, 0.36216, 0.959049, 0.466741, 0.14715, 0.707489, 0.140528, 0.730918, 0.941931, 0.774465, 0.080871, 0.311927, 0.434145, 0.439869, 0.047134, 0.252526, 0.250727, 0.818191, 0.726834, 0.925218, 0.892622, 0.126135, 0.772258, 0.633092, 0.454887, 0.941521, 0.739425, 0.19847, 0.093045, 0.870512, 0.737731, 0.812303, 0.6707, 0.527706, 0.293822, 0.285165, 0.684138, 0.056221, 0.653855, 0.63885, 0.663497, 0.247306, 0.114009, 0.217305]\n",
            "31\n",
            "32\n"
          ]
        }
      ],
      "source": [
        "\n",
        "results0 = print_my_examples(ironic, serving_results_ironic)\n",
        "print(\"\\n/////////////////////////\\n\")\n",
        "\n",
        "scores0 = []\n",
        "for result in results0:\n",
        "  score = \"\"\n",
        "  for i in range(8):\n",
        "    score = score + result[len(result) +i-8 ]\n",
        "    #print(score)\n",
        "  scores0.append(float(score))\n",
        "\n",
        "print(\"\\n/////////////////////////\\n\")\n",
        "print(scores0)\n",
        "\n",
        "true_positive = 0\n",
        "false_negative = 0\n",
        "for score in scores0:\n",
        "  if score < 0.5:\n",
        "    true_positive = true_positive + 1\n",
        "  else:\n",
        "    false_negative = false_negative + 1\n",
        "\n",
        "print(true_positive)\n",
        "print(false_negative)"
      ]
    },
    {
      "cell_type": "code",
      "execution_count": null,
      "metadata": {
        "id": "bn5kNEcufPNg",
        "colab": {
          "base_uri": "https://localhost:8080/"
        },
        "outputId": "ea1b5328-d4a8-4fc0-b5b1-5ca48f9975f8"
      },
      "outputs": [
        {
          "output_type": "stream",
          "name": "stdout",
          "text": [
            "ACCURACCY: \n",
            "0.525691699604743\n",
            "PRECISION: \n",
            "0.2605042016806723\n",
            "RECALL: \n",
            "0.7611940298507462\n",
            "F1-SCORE: \n",
            "0.3881659710287258\n"
          ]
        }
      ],
      "source": [
        "accuracy = (true_negative + true_positive) / (true_negative + true_positive + false_negative + false_positive )\n",
        "precision = true_positive / (true_positive + false_positive)\n",
        "\n",
        "recall = true_negative / (true_negative + false_negative)\n",
        "f1_score = (2*(precision*recall))/(recall+precision)\n",
        "\n",
        "print(\"ACCURACCY: \")\n",
        "print(accuracy)\n",
        "print(\"PRECISION: \")\n",
        "print(precision)\n",
        "print(\"RECALL: \")\n",
        "print(recall)\n",
        "print(\"F1-SCORE: \")\n",
        "print(f1_score)"
      ]
    }
  ],
  "metadata": {
    "accelerator": "GPU",
    "colab": {
      "provenance": [],
      "gpuType": "T4"
    },
    "kernelspec": {
      "display_name": "Python 3",
      "name": "python3"
    },
    "language_info": {
      "name": "python"
    }
  },
  "nbformat": 4,
  "nbformat_minor": 0
}